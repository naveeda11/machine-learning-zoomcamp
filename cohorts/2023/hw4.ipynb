{
 "cells": [
  {
   "cell_type": "code",
   "execution_count": 234,
   "id": "63bb2af8-a325-4276-8b85-15b5f226672f",
   "metadata": {},
   "outputs": [
    {
     "name": "stdout",
     "output_type": "stream",
     "text": [
      "/Users/naveed/projects/machine-learning-zoomcamp/cohorts/2023\n"
     ]
    }
   ],
   "source": [
    "!pwd"
   ]
  },
  {
   "cell_type": "code",
   "execution_count": 235,
   "id": "0a739416-b71c-4bc3-be6a-e3d1787f4ff3",
   "metadata": {},
   "outputs": [
    {
     "name": "stdout",
     "output_type": "stream",
     "text": [
      "\u001b[34m01-intro\u001b[m\u001b[m      README.md     data.csv.1    data.csv.3    hw1.ipynb\n",
      "\u001b[34m02-regression\u001b[m\u001b[m data.csv      data.csv.2    housing.csv   hw4.ipynb\n"
     ]
    }
   ],
   "source": [
    "!ls"
   ]
  },
  {
   "cell_type": "code",
   "execution_count": 236,
   "id": "c5e968fb-afc9-4268-95d0-5cb383542a60",
   "metadata": {},
   "outputs": [
    {
     "name": "stdout",
     "output_type": "stream",
     "text": [
      "--2023-10-09 09:33:00--  http://wget/\n",
      "Resolving wget (wget)... failed: nodename nor servname provided, or not known.\n",
      "wget: unable to resolve host address ‘wget’\n",
      "--2023-10-09 09:33:00--  https://raw.githubusercontent.com/alexeygrigorev/mlbookcamp-code/master/chapter-02-car-price/data.csv\n",
      "Resolving raw.githubusercontent.com (raw.githubusercontent.com)... 2606:50c0:8000::154, 2606:50c0:8001::154, 2606:50c0:8003::154, ...\n",
      "Connecting to raw.githubusercontent.com (raw.githubusercontent.com)|2606:50c0:8000::154|:443... connected.\n",
      "HTTP request sent, awaiting response... 200 OK\n",
      "Length: 1475504 (1.4M) [text/plain]\n",
      "Saving to: ‘data.csv.4’\n",
      "\n",
      "data.csv.4          100%[===================>]   1.41M  5.17MB/s    in 0.3s    \n",
      "\n",
      "2023-10-09 09:33:01 (5.17 MB/s) - ‘data.csv.4’ saved [1475504/1475504]\n",
      "\n",
      "FINISHED --2023-10-09 09:33:01--\n",
      "Total wall clock time: 1.0s\n",
      "Downloaded: 1 files, 1.4M in 0.3s (5.17 MB/s)\n"
     ]
    }
   ],
   "source": [
    "!wget wget https://raw.githubusercontent.com/alexeygrigorev/mlbookcamp-code/master/chapter-02-car-price/data.csv"
   ]
  },
  {
   "cell_type": "code",
   "execution_count": 237,
   "id": "72fa7068-f029-4c0a-8e02-3fb2990646bf",
   "metadata": {},
   "outputs": [],
   "source": [
    "import pandas as pd"
   ]
  },
  {
   "cell_type": "code",
   "execution_count": 238,
   "id": "37bed8ce-c913-40a8-b296-747413f98a57",
   "metadata": {},
   "outputs": [],
   "source": [
    "df = pd.read_csv(\"data.csv.1\")"
   ]
  },
  {
   "cell_type": "code",
   "execution_count": 239,
   "id": "54130942-3189-4745-82d7-a027f011e0f0",
   "metadata": {},
   "outputs": [
    {
     "data": {
      "text/plain": [
       "Index(['Make', 'Model', 'Year', 'Engine Fuel Type', 'Engine HP',\n",
       "       'Engine Cylinders', 'Transmission Type', 'Driven_Wheels',\n",
       "       'Number of Doors', 'Market Category', 'Vehicle Size', 'Vehicle Style',\n",
       "       'highway MPG', 'city mpg', 'Popularity', 'MSRP'],\n",
       "      dtype='object')"
      ]
     },
     "execution_count": 239,
     "metadata": {},
     "output_type": "execute_result"
    }
   ],
   "source": [
    "df.columns"
   ]
  },
  {
   "cell_type": "code",
   "execution_count": 240,
   "id": "23c70924-92d8-4941-b630-4ed7a8e161b1",
   "metadata": {},
   "outputs": [],
   "source": [
    "columns = [\"Make\",\n",
    "\"Model\",\n",
    "\"Year\",\n",
    "\"Engine HP\",\n",
    "\"Engine Cylinders\",\n",
    "\"Transmission Type\",\n",
    "\"Vehicle Style\",\n",
    "\"highway MPG\",\n",
    "\"city mpg\",\n",
    "\"MSRP\"]"
   ]
  },
  {
   "cell_type": "code",
   "execution_count": 241,
   "id": "8a990768-b80f-49da-bd83-867769cb741a",
   "metadata": {},
   "outputs": [],
   "source": [
    "df = df[columns]"
   ]
  },
  {
   "cell_type": "code",
   "execution_count": 242,
   "id": "8b1c0391-5e32-4fae-b8e5-2e3ea15b2efe",
   "metadata": {},
   "outputs": [],
   "source": [
    "df.rename(mapper=str.lower, axis=1, inplace=True)"
   ]
  },
  {
   "cell_type": "code",
   "execution_count": 243,
   "id": "99cd5672-ecbf-4db4-9f8b-e79905c18cc6",
   "metadata": {},
   "outputs": [],
   "source": [
    "df.columns = df.columns.str.replace(\" \", \"_\")"
   ]
  },
  {
   "cell_type": "code",
   "execution_count": 244,
   "id": "58d5f73f-144c-4620-b48e-149e2143ef65",
   "metadata": {},
   "outputs": [
    {
     "data": {
      "text/plain": [
       "Index(['make', 'model', 'year', 'engine_hp', 'engine_cylinders',\n",
       "       'transmission_type', 'vehicle_style', 'highway_mpg', 'city_mpg',\n",
       "       'msrp'],\n",
       "      dtype='object')"
      ]
     },
     "execution_count": 244,
     "metadata": {},
     "output_type": "execute_result"
    }
   ],
   "source": [
    "df.columns"
   ]
  },
  {
   "cell_type": "code",
   "execution_count": 245,
   "id": "49c5e43c-4b3d-4688-a01d-3747691c7b01",
   "metadata": {},
   "outputs": [],
   "source": [
    "df.fillna(0, inplace=True)"
   ]
  },
  {
   "cell_type": "code",
   "execution_count": 246,
   "id": "1b5fbe1e-8218-470f-a20c-6b8b2b2fcff6",
   "metadata": {},
   "outputs": [],
   "source": [
    "df[\"above_average\"] = (df[\"msrp\"] > df[\"msrp\"].mean()).astype(int)\n",
    "del df[\"msrp\"]"
   ]
  },
  {
   "cell_type": "code",
   "execution_count": 247,
   "id": "94062613-8d50-4c1a-9d15-fc7538d72afe",
   "metadata": {},
   "outputs": [],
   "source": [
    "from sklearn.model_selection import train_test_split\n",
    "from sklearn.feature_extraction import DictVectorizer\n",
    "from sklearn.linear_model import LogisticRegression\n",
    "from sklearn.metrics import auc, roc_auc_score"
   ]
  },
  {
   "cell_type": "code",
   "execution_count": 248,
   "id": "415069aa-6597-4eae-83e5-16b482551e65",
   "metadata": {},
   "outputs": [],
   "source": [
    "df_fulltrain, df_test = train_test_split(df, test_size=.2, random_state=1)\n",
    "df_train, df_val = train_test_split(df_fulltrain, test_size=.25, random_state=1)"
   ]
  },
  {
   "cell_type": "code",
   "execution_count": 249,
   "id": "210df0b1-cda6-49bc-95de-ae21f70468e0",
   "metadata": {},
   "outputs": [],
   "source": [
    "numerical = [\"year\", \"engine_hp\", \"engine_cylinders\", \"highway_mpg\", \"city_mpg\"]\n",
    "categorical = [\"make\", \"model\", \"transmission_type\", \"vehicle_style\"]"
   ]
  },
  {
   "cell_type": "code",
   "execution_count": 250,
   "id": "5b2b2438-5724-448d-b455-b2ead0218b24",
   "metadata": {},
   "outputs": [
    {
     "data": {
      "text/plain": [
       "make                  object\n",
       "model                 object\n",
       "year                   int64\n",
       "engine_hp            float64\n",
       "engine_cylinders     float64\n",
       "transmission_type     object\n",
       "vehicle_style         object\n",
       "highway_mpg            int64\n",
       "city_mpg               int64\n",
       "above_average          int64\n",
       "dtype: object"
      ]
     },
     "execution_count": 250,
     "metadata": {},
     "output_type": "execute_result"
    }
   ],
   "source": [
    "df_train.dtypes"
   ]
  },
  {
   "cell_type": "code",
   "execution_count": 251,
   "id": "826a5ccb-b6a2-40a8-a986-46d77cc8c954",
   "metadata": {},
   "outputs": [
    {
     "name": "stdout",
     "output_type": "stream",
     "text": [
      "engine_hp 0.683316683316683\n",
      "engine_cylinders 0.625\n",
      "highway_mpg 0.809322033898305\n",
      "city_mpg 0.36131386861313874\n"
     ]
    }
   ],
   "source": [
    "for n in numerical[1:]: \n",
    "    temp_df = df_train.sort_values(by=n)\n",
    "    temp_df[f\"{n}_normalized\"] = temp_df[n] / temp_df[n].max()\n",
    "    #print (temp_df[f\"{n}_normalized\"])\n",
    "    print(n, auc(temp_df[f\"{n}_normalized\"], temp_df[\"above_average\"]))"
   ]
  },
  {
   "cell_type": "code",
   "execution_count": 252,
   "id": "0f93ac1d-1264-41a1-8bf6-acd5e4cd5528",
   "metadata": {},
   "outputs": [],
   "source": [
    "y_train = df_train.above_average.values\n",
    "y_val = df_val.above_average.values\n",
    "y_test = df_test.above_average.values"
   ]
  },
  {
   "cell_type": "code",
   "execution_count": 253,
   "id": "ebe2b7c0-7558-49c5-9701-67495021080c",
   "metadata": {},
   "outputs": [],
   "source": [
    "\n",
    "df_train.reset_index(inplace=True)\n",
    "df_val.reset_index(inplace=True)\n",
    "df_test.reset_index(inplace=True)"
   ]
  },
  {
   "cell_type": "code",
   "execution_count": 254,
   "id": "b6d51f66-47a3-4f03-a5aa-bd95ed22db69",
   "metadata": {},
   "outputs": [],
   "source": [
    "# del df_train[\"msrp\"]\n",
    "# del df_val[\"msrp\"]\n",
    "# del df_test[\"msrp\"]\n",
    "del df_train[\"above_average\"]\n",
    "del df_val[\"above_average\"]\n",
    "del df_test[\"above_average\"]"
   ]
  },
  {
   "cell_type": "code",
   "execution_count": 255,
   "id": "a7bfa5e1-1dae-4b00-bad5-d98629cbd0fd",
   "metadata": {},
   "outputs": [],
   "source": [
    "dv = DictVectorizer(sparse=False)"
   ]
  },
  {
   "cell_type": "code",
   "execution_count": 256,
   "id": "9ad6fa3b-fb82-439d-828b-87aabf0818ae",
   "metadata": {},
   "outputs": [],
   "source": [
    "train_dict = df_train.to_dict(orient=\"records\")"
   ]
  },
  {
   "cell_type": "code",
   "execution_count": 257,
   "id": "87dd72c5-2ea0-45aa-a6e1-d80c023fee7c",
   "metadata": {},
   "outputs": [],
   "source": [
    "X_train = dv.fit_transform(train_dict)"
   ]
  },
  {
   "cell_type": "code",
   "execution_count": 258,
   "id": "1b1805ff-58b5-4e8f-a0b0-b2d2a8113e58",
   "metadata": {},
   "outputs": [
    {
     "data": {
      "text/html": [
       "<style>#sk-container-id-4 {color: black;}#sk-container-id-4 pre{padding: 0;}#sk-container-id-4 div.sk-toggleable {background-color: white;}#sk-container-id-4 label.sk-toggleable__label {cursor: pointer;display: block;width: 100%;margin-bottom: 0;padding: 0.3em;box-sizing: border-box;text-align: center;}#sk-container-id-4 label.sk-toggleable__label-arrow:before {content: \"▸\";float: left;margin-right: 0.25em;color: #696969;}#sk-container-id-4 label.sk-toggleable__label-arrow:hover:before {color: black;}#sk-container-id-4 div.sk-estimator:hover label.sk-toggleable__label-arrow:before {color: black;}#sk-container-id-4 div.sk-toggleable__content {max-height: 0;max-width: 0;overflow: hidden;text-align: left;background-color: #f0f8ff;}#sk-container-id-4 div.sk-toggleable__content pre {margin: 0.2em;color: black;border-radius: 0.25em;background-color: #f0f8ff;}#sk-container-id-4 input.sk-toggleable__control:checked~div.sk-toggleable__content {max-height: 200px;max-width: 100%;overflow: auto;}#sk-container-id-4 input.sk-toggleable__control:checked~label.sk-toggleable__label-arrow:before {content: \"▾\";}#sk-container-id-4 div.sk-estimator input.sk-toggleable__control:checked~label.sk-toggleable__label {background-color: #d4ebff;}#sk-container-id-4 div.sk-label input.sk-toggleable__control:checked~label.sk-toggleable__label {background-color: #d4ebff;}#sk-container-id-4 input.sk-hidden--visually {border: 0;clip: rect(1px 1px 1px 1px);clip: rect(1px, 1px, 1px, 1px);height: 1px;margin: -1px;overflow: hidden;padding: 0;position: absolute;width: 1px;}#sk-container-id-4 div.sk-estimator {font-family: monospace;background-color: #f0f8ff;border: 1px dotted black;border-radius: 0.25em;box-sizing: border-box;margin-bottom: 0.5em;}#sk-container-id-4 div.sk-estimator:hover {background-color: #d4ebff;}#sk-container-id-4 div.sk-parallel-item::after {content: \"\";width: 100%;border-bottom: 1px solid gray;flex-grow: 1;}#sk-container-id-4 div.sk-label:hover label.sk-toggleable__label {background-color: #d4ebff;}#sk-container-id-4 div.sk-serial::before {content: \"\";position: absolute;border-left: 1px solid gray;box-sizing: border-box;top: 0;bottom: 0;left: 50%;z-index: 0;}#sk-container-id-4 div.sk-serial {display: flex;flex-direction: column;align-items: center;background-color: white;padding-right: 0.2em;padding-left: 0.2em;position: relative;}#sk-container-id-4 div.sk-item {position: relative;z-index: 1;}#sk-container-id-4 div.sk-parallel {display: flex;align-items: stretch;justify-content: center;background-color: white;position: relative;}#sk-container-id-4 div.sk-item::before, #sk-container-id-4 div.sk-parallel-item::before {content: \"\";position: absolute;border-left: 1px solid gray;box-sizing: border-box;top: 0;bottom: 0;left: 50%;z-index: -1;}#sk-container-id-4 div.sk-parallel-item {display: flex;flex-direction: column;z-index: 1;position: relative;background-color: white;}#sk-container-id-4 div.sk-parallel-item:first-child::after {align-self: flex-end;width: 50%;}#sk-container-id-4 div.sk-parallel-item:last-child::after {align-self: flex-start;width: 50%;}#sk-container-id-4 div.sk-parallel-item:only-child::after {width: 0;}#sk-container-id-4 div.sk-dashed-wrapped {border: 1px dashed gray;margin: 0 0.4em 0.5em 0.4em;box-sizing: border-box;padding-bottom: 0.4em;background-color: white;}#sk-container-id-4 div.sk-label label {font-family: monospace;font-weight: bold;display: inline-block;line-height: 1.2em;}#sk-container-id-4 div.sk-label-container {text-align: center;}#sk-container-id-4 div.sk-container {/* jupyter's `normalize.less` sets `[hidden] { display: none; }` but bootstrap.min.css set `[hidden] { display: none !important; }` so we also need the `!important` here to be able to override the default hidden behavior on the sphinx rendered scikit-learn.org. See: https://github.com/scikit-learn/scikit-learn/issues/21755 */display: inline-block !important;position: relative;}#sk-container-id-4 div.sk-text-repr-fallback {display: none;}</style><div id=\"sk-container-id-4\" class=\"sk-top-container\"><div class=\"sk-text-repr-fallback\"><pre>LogisticRegression(max_iter=1000, solver=&#x27;liblinear&#x27;)</pre><b>In a Jupyter environment, please rerun this cell to show the HTML representation or trust the notebook. <br />On GitHub, the HTML representation is unable to render, please try loading this page with nbviewer.org.</b></div><div class=\"sk-container\" hidden><div class=\"sk-item\"><div class=\"sk-estimator sk-toggleable\"><input class=\"sk-toggleable__control sk-hidden--visually\" id=\"sk-estimator-id-4\" type=\"checkbox\" checked><label for=\"sk-estimator-id-4\" class=\"sk-toggleable__label sk-toggleable__label-arrow\">LogisticRegression</label><div class=\"sk-toggleable__content\"><pre>LogisticRegression(max_iter=1000, solver=&#x27;liblinear&#x27;)</pre></div></div></div></div></div>"
      ],
      "text/plain": [
       "LogisticRegression(max_iter=1000, solver='liblinear')"
      ]
     },
     "execution_count": 258,
     "metadata": {},
     "output_type": "execute_result"
    }
   ],
   "source": [
    "model = LogisticRegression(solver='liblinear', C=1.0, max_iter=1000)\n",
    "model.fit(X_train, y_train)"
   ]
  },
  {
   "cell_type": "code",
   "execution_count": 259,
   "id": "c117ef73-5241-4d20-a170-50defbff5da3",
   "metadata": {},
   "outputs": [],
   "source": [
    "val_dict = df_val.to_dict(orient=\"records\")\n",
    "X_val = dv.transform(val_dict)"
   ]
  },
  {
   "cell_type": "code",
   "execution_count": 260,
   "id": "dbdcc8de-46f1-4439-a568-945eaa2955f6",
   "metadata": {},
   "outputs": [],
   "source": [
    "y_pred = model.predict_proba(X_val, )[:, 1]"
   ]
  },
  {
   "cell_type": "code",
   "execution_count": 261,
   "id": "78e1faab-4e8f-4e23-89b2-461311efe920",
   "metadata": {},
   "outputs": [
    {
     "data": {
      "text/plain": [
       "array([0.59041254, 0.02351996, 0.57776302, ..., 0.00627176, 0.9999908 ,\n",
       "       0.07880016])"
      ]
     },
     "execution_count": 261,
     "metadata": {},
     "output_type": "execute_result"
    }
   ],
   "source": [
    "y_pred"
   ]
  },
  {
   "cell_type": "code",
   "execution_count": 262,
   "id": "519ae1f6-1d65-41da-8c90-09793f82da43",
   "metadata": {},
   "outputs": [],
   "source": [
    "churn_decision = (y_pred >= .5)"
   ]
  },
  {
   "cell_type": "code",
   "execution_count": 263,
   "id": "86e53b94-2973-46b4-aaf8-6397d51760bf",
   "metadata": {},
   "outputs": [
    {
     "data": {
      "text/plain": [
       "0.9244649601342845"
      ]
     },
     "execution_count": 263,
     "metadata": {},
     "output_type": "execute_result"
    }
   ],
   "source": [
    "(churn_decision == y_val).mean()"
   ]
  },
  {
   "cell_type": "code",
   "execution_count": 264,
   "id": "c60ed168-43dd-4899-80a2-434ffd6591dd",
   "metadata": {},
   "outputs": [],
   "source": [
    "from sklearn.metrics import accuracy_score, roc_curve"
   ]
  },
  {
   "cell_type": "code",
   "execution_count": 265,
   "id": "f3b5d4cf-939c-4ea3-a737-002f0ce0dc9d",
   "metadata": {},
   "outputs": [
    {
     "data": {
      "text/plain": [
       "0.9244649601342845"
      ]
     },
     "execution_count": 265,
     "metadata": {},
     "output_type": "execute_result"
    }
   ],
   "source": [
    "accuracy_score(y_val, churn_decision)"
   ]
  },
  {
   "cell_type": "code",
   "execution_count": 266,
   "id": "1de44e1b-194c-4db5-acec-e73341efd891",
   "metadata": {},
   "outputs": [],
   "source": [
    "fpr, tpr, threshholds = roc_curve(y_val, y_pred)"
   ]
  },
  {
   "cell_type": "code",
   "execution_count": 267,
   "id": "b87b8b63-137d-46a3-87e6-cebf221d5a04",
   "metadata": {},
   "outputs": [],
   "source": [
    "import matplotlib.pyplot as plt\n",
    "import numpy as np"
   ]
  },
  {
   "cell_type": "code",
   "execution_count": 268,
   "id": "6d2527d6-b116-4550-95a2-fe8ea0d2810c",
   "metadata": {},
   "outputs": [
    {
     "data": {
      "text/plain": [
       "[<matplotlib.lines.Line2D at 0x29c6bd5d0>]"
      ]
     },
     "execution_count": 268,
     "metadata": {},
     "output_type": "execute_result"
    },
    {
     "data": {
      "image/png": "[encoded data removed]",
      "text/plain": [
       "<Figure size 500x500 with 1 Axes>"
      ]
     },
     "metadata": {},
     "output_type": "display_data"
    }
   ],
   "source": [
    "plt.figure(figsize=(5,5))\n",
    "plt.plot(fpr, tpr, label=\"Model\")"
   ]
  },
  {
   "cell_type": "code",
   "execution_count": 269,
   "id": "b6a19ee3-c9fc-48d4-b8ad-c30a55d834b7",
   "metadata": {},
   "outputs": [
    {
     "data": {
      "text/plain": [
       "0.9748126491245758"
      ]
     },
     "execution_count": 269,
     "metadata": {},
     "output_type": "execute_result"
    }
   ],
   "source": [
    "auc(fpr, tpr)"
   ]
  },
  {
   "cell_type": "code",
   "execution_count": 270,
   "id": "9180f3ef-bfd2-48b1-9332-2fb6970953b0",
   "metadata": {},
   "outputs": [],
   "source": [
    "from sklearn.metrics import precision_score, recall_score, f1_score"
   ]
  },
  {
   "cell_type": "code",
   "execution_count": 271,
   "id": "44df0c7b-14bd-4f9a-af4a-ae9d5e14f7ed",
   "metadata": {},
   "outputs": [],
   "source": [
    "thresholds = np.linspace(0, 1, 101)"
   ]
  },
  {
   "cell_type": "code",
   "execution_count": 272,
   "id": "b81839d5-85b2-4680-ac14-79f8be373541",
   "metadata": {},
   "outputs": [
    {
     "name": "stderr",
     "output_type": "stream",
     "text": [
      "/Users/naveed/miniconda3/envs/mlz1/lib/python3.11/site-packages/sklearn/metrics/_classification.py:1469: UndefinedMetricWarning: Precision is ill-defined and being set to 0.0 due to no predicted samples. Use `zero_division` parameter to control this behavior.\n",
      "  _warn_prf(average, modifier, msg_start, len(result))\n"
     ]
    }
   ],
   "source": [
    "for t in thresholds: \n",
    "    churn_decision = (y_pred >= t)\n",
    "    p = precision_score(y_val, churn_decision )\n",
    "    r = recall_score(y_val, churn_decision )\n",
    "    f = f1_score(y_val, churn_decision)\n",
    "    #print(t, p, r, f)\n",
    "    "
   ]
  },
  {
   "cell_type": "code",
   "execution_count": 288,
   "id": "538e014a-a780-4260-82fc-202155de716c",
   "metadata": {},
   "outputs": [],
   "source": [
    "def train(df_train, y_train, c):\n",
    "    dicts = df_train.to_dict(orient=\"records\")\n",
    "    dv = DictVectorizer(sparse=False)\n",
    "    X_train = dv.fit_transform(dicts)\n",
    "    model = LogisticRegression(solver='liblinear', C=c, max_iter=1000)\n",
    "    model.fit(X_train, y_train)\n",
    "    return dv, model\n",
    "\n",
    "    "
   ]
  },
  {
   "cell_type": "code",
   "execution_count": 274,
   "id": "389ebf59-c53d-467d-98d2-18ea32081c21",
   "metadata": {},
   "outputs": [],
   "source": [
    "dv, model = train(df_train, y_train)"
   ]
  },
  {
   "cell_type": "code",
   "execution_count": 275,
   "id": "05bb9bc3-5c1e-4e39-82e8-432158594997",
   "metadata": {},
   "outputs": [
    {
     "data": {
      "text/plain": [
       "index                  int64\n",
       "make                  object\n",
       "model                 object\n",
       "year                   int64\n",
       "engine_hp            float64\n",
       "engine_cylinders     float64\n",
       "transmission_type     object\n",
       "vehicle_style         object\n",
       "highway_mpg            int64\n",
       "city_mpg               int64\n",
       "dtype: object"
      ]
     },
     "execution_count": 275,
     "metadata": {},
     "output_type": "execute_result"
    }
   ],
   "source": [
    "df_val.dtypes"
   ]
  },
  {
   "cell_type": "code",
   "execution_count": 276,
   "id": "4594181d-b4f2-464a-95fe-4a60a2c275e1",
   "metadata": {},
   "outputs": [],
   "source": [
    "def predict(df, dv, model):\n",
    "    dicts = df.to_dict(orient=\"records\")\n",
    "    X = dv.transform(dicts)\n",
    "    y_pred = model.predict_proba(X)[:, 1]\n",
    "    return y_pred\n",
    "    "
   ]
  },
  {
   "cell_type": "code",
   "execution_count": 277,
   "id": "742663e3-d6db-4eda-ba66-a98079c8dc97",
   "metadata": {},
   "outputs": [
    {
     "data": {
      "text/plain": [
       "array([0.59041254, 0.02351996, 0.57776302, ..., 0.00627176, 0.9999908 ,\n",
       "       0.07880016])"
      ]
     },
     "execution_count": 277,
     "metadata": {},
     "output_type": "execute_result"
    }
   ],
   "source": [
    "predict(df_val, dv, model)"
   ]
  },
  {
   "cell_type": "code",
   "execution_count": 278,
   "id": "45d1aaa8-dcf0-4957-9291-5cd27908c41a",
   "metadata": {},
   "outputs": [],
   "source": [
    "from sklearn.model_selection import KFold"
   ]
  },
  {
   "cell_type": "code",
   "execution_count": 279,
   "id": "571cca21-dc7a-483a-97ef-9b1fa5cb589c",
   "metadata": {},
   "outputs": [],
   "source": [
    "kfold = KFold(n_splits=5, shuffle=True, random_state=1)\n"
   ]
  },
  {
   "cell_type": "code",
   "execution_count": 280,
   "id": "52a3f615-b42d-4ec9-9bff-51095a546fd7",
   "metadata": {},
   "outputs": [
    {
     "data": {
      "text/plain": [
       "(array([   0,    1,    2, ..., 9528, 9529, 9530]),\n",
       " array([   6,    7,   21, ..., 9520, 9525, 9527]))"
      ]
     },
     "execution_count": 280,
     "metadata": {},
     "output_type": "execute_result"
    }
   ],
   "source": [
    "next(kfold.split(df_fulltrain))"
   ]
  },
  {
   "cell_type": "code",
   "execution_count": 281,
   "id": "7102505a-8960-4132-886f-8f8e563cf95c",
   "metadata": {},
   "outputs": [
    {
     "name": "stdout",
     "output_type": "stream",
     "text": [
      "Requirement already satisfied: tqdm in /Users/naveed/miniconda3/envs/mlz1/lib/python3.11/site-packages (4.66.1)\n"
     ]
    }
   ],
   "source": [
    "!pip install tqdm \n",
    "from tqdm.auto import tqdm"
   ]
  },
  {
   "cell_type": "code",
   "execution_count": 283,
   "id": "304935f7-8022-4e41-bc51-095834bb8d55",
   "metadata": {},
   "outputs": [
    {
     "data": {
      "text/plain": [
       "make                  object\n",
       "model                 object\n",
       "year                   int64\n",
       "engine_hp            float64\n",
       "engine_cylinders     float64\n",
       "transmission_type     object\n",
       "vehicle_style         object\n",
       "highway_mpg            int64\n",
       "city_mpg               int64\n",
       "above_average          int64\n",
       "dtype: object"
      ]
     },
     "execution_count": 283,
     "metadata": {},
     "output_type": "execute_result"
    }
   ],
   "source": [
    "df_fulltrain.dtypes"
   ]
  },
  {
   "cell_type": "code",
   "execution_count": 292,
   "id": "ceb14e6f-8fd6-428c-a9cd-e4187acd0c04",
   "metadata": {},
   "outputs": [
    {
     "name": "stderr",
     "output_type": "stream",
     "text": [
      "5it [00:00,  9.70it/s]\n"
     ]
    },
    {
     "name": "stdout",
     "output_type": "stream",
     "text": [
      "0.01 0.9516160555608568 0.002537552590615493\n"
     ]
    },
    {
     "name": "stderr",
     "output_type": "stream",
     "text": [
      "5it [00:00,  7.38it/s]\n"
     ]
    },
    {
     "name": "stdout",
     "output_type": "stream",
     "text": [
      "0.1 0.9617074898166553 0.010311301902117402\n"
     ]
    },
    {
     "name": "stderr",
     "output_type": "stream",
     "text": [
      "5it [00:00,  8.75it/s]\n"
     ]
    },
    {
     "name": "stdout",
     "output_type": "stream",
     "text": [
      "0.5 0.9670263727592197 0.011335423379858387\n"
     ]
    },
    {
     "name": "stderr",
     "output_type": "stream",
     "text": [
      "5it [00:00,  9.41it/s]"
     ]
    },
    {
     "name": "stdout",
     "output_type": "stream",
     "text": [
      "10 0.9707898041684129 0.01188375738806606\n"
     ]
    },
    {
     "name": "stderr",
     "output_type": "stream",
     "text": [
      "\n"
     ]
    }
   ],
   "source": [
    "scores = [] \n",
    "\n",
    "LogisticRegression(solver='liblinear', C=C, max_iter=1000)\n",
    "for c in C: \n",
    "    for train_idx, val_idx in tqdm(kfold.split(df_fulltrain)):\n",
    "        df_train = df_fulltrain.iloc[train_idx]\n",
    "        df_val = df_fulltrain.iloc[val_idx]\n",
    "    \n",
    "        y_train = df_train.above_average.values\n",
    "        y_val = df_val.above_average.values\n",
    "    \n",
    "        del df_train[\"above_average\"]\n",
    "        del df_val[\"above_average\"]\n",
    "        \n",
    "        dv, model = train(df_train, y_train, c)\n",
    "        y_pred = predict(df_val, dv, model)\n",
    "        churn_decision = (y_pred >= .5)\n",
    "        auc = roc_auc_score(y_val, y_pred)\n",
    "        scores.append(auc)\n",
    "    print (c, np.mean(scores), np.std(scores))\n",
    "        # p = precision_score(y_val, churn_decision )\n",
    "        # r = recall_score(y_val, churn_decision )\n",
    "        # f = f1_score(y_val, churn_decision)\n",
    "        # print(t, p, r, f)\n",
    "        \n",
    "        \n",
    "    "
   ]
  },
  {
   "cell_type": "code",
   "execution_count": 286,
   "id": "c62fce94-fb25-4535-b8b6-667157fa89aa",
   "metadata": {},
   "outputs": [
    {
     "data": {
      "text/plain": [
       "[0.9784904985837252,\n",
       " 0.9774830122707483,\n",
       " 0.9776253415871954,\n",
       " 0.9797473648987787,\n",
       " 0.9847305472305472]"
      ]
     },
     "execution_count": 286,
     "metadata": {},
     "output_type": "execute_result"
    }
   ],
   "source": [
    "scores"
   ]
  },
  {
   "cell_type": "code",
   "execution_count": 287,
   "id": "a06e62f8-47c6-43b2-8919-eaf04548615f",
   "metadata": {},
   "outputs": [
    {
     "data": {
      "text/plain": [
       "0.0026816024695757506"
      ]
     },
     "execution_count": 287,
     "metadata": {},
     "output_type": "execute_result"
    }
   ],
   "source": [
    "np.std(scores)"
   ]
  },
  {
   "cell_type": "code",
   "execution_count": 289,
   "id": "d642e353-db94-42da-8c2a-4e480b4c9933",
   "metadata": {},
   "outputs": [],
   "source": [
    "C = [0.01, 0.1, 0.5, 10]"
   ]
  },
  {
   "cell_type": "code",
   "execution_count": null,
   "id": "0dfad38f-c22f-4325-9cd6-e9ba32d5ab4b",
   "metadata": {},
   "outputs": [],
   "source": []
  }
 ],
 "metadata": {
  "kernelspec": {
   "display_name": "Python 3 (ipykernel)",
   "language": "python",
   "name": "python3"
  },
  "language_info": {
   "codemirror_mode": {
    "name": "ipython",
    "version": 3
   },
   "file_extension": ".py",
   "mimetype": "text/x-python",
   "name": "python",
   "nbconvert_exporter": "python",
   "pygments_lexer": "ipython3",
   "version": "3.11.5"
  }
 },
 "nbformat": 4,
 "nbformat_minor": 5
}
