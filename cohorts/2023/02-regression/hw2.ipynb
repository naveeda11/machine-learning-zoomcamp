{
 "cells": [
  {
   "cell_type": "code",
   "execution_count": 200,
   "id": "d81ce1b4-9a8e-4bb7-aa7f-1d77eaf8eed6",
   "metadata": {},
   "outputs": [],
   "source": [
    "import numpy as np\n",
    "import pandas as pd\n",
    "import seaborn as sns\n",
    "%matplotlib inline "
   ]
  },
  {
   "cell_type": "code",
   "execution_count": 201,
   "id": "5892a071-02b9-4f1c-94e3-7d6344929ece",
   "metadata": {},
   "outputs": [],
   "source": [
    "df = pd.read_csv(\"housing.csv\")"
   ]
  },
  {
   "cell_type": "code",
   "execution_count": 202,
   "id": "d068503f-0539-410a-b554-4f39557db09f",
   "metadata": {},
   "outputs": [
    {
     "name": "stderr",
     "output_type": "stream",
     "text": [
      "/Users/naveed/miniconda3/envs/mlz1/lib/python3.11/site-packages/seaborn/_oldcore.py:1498: FutureWarning: is_categorical_dtype is deprecated and will be removed in a future version. Use isinstance(dtype, CategoricalDtype) instead\n",
      "  if pd.api.types.is_categorical_dtype(vector):\n",
      "/Users/naveed/miniconda3/envs/mlz1/lib/python3.11/site-packages/seaborn/_oldcore.py:1119: FutureWarning: use_inf_as_na option is deprecated and will be removed in a future version. Convert inf values to NaN before operating instead.\n",
      "  with pd.option_context('mode.use_inf_as_na', True):\n"
     ]
    },
    {
     "data": {
      "text/plain": [
       "<Axes: xlabel='median_house_value', ylabel='Count'>"
      ]
     },
     "execution_count": 202,
     "metadata": {},
     "output_type": "execute_result"
    },
    {
     "data": {
      "image/png": "[encoded data removed]",
      "text/plain": [
       "<Figure size 640x480 with 1 Axes>"
      ]
     },
     "metadata": {},
     "output_type": "display_data"
    }
   ],
   "source": [
    "sns.histplot(df.median_house_value, bins=100)"
   ]
  },
  {
   "cell_type": "code",
   "execution_count": 203,
   "id": "035932bc-29b2-448b-b963-7d22269edd7a",
   "metadata": {},
   "outputs": [
    {
     "data": {
      "text/html": [
       "<div>\n",
       "<style scoped>\n",
       "    .dataframe tbody tr th:only-of-type {\n",
       "        vertical-align: middle;\n",
       "    }\n",
       "\n",
       "    .dataframe tbody tr th {\n",
       "        vertical-align: top;\n",
       "    }\n",
       "\n",
       "    .dataframe thead th {\n",
       "        text-align: right;\n",
       "    }\n",
       "</style>\n",
       "<table border=\"1\" class=\"dataframe\">\n",
       "  <thead>\n",
       "    <tr style=\"text-align: right;\">\n",
       "      <th></th>\n",
       "      <th>count</th>\n",
       "      <th>mean</th>\n",
       "      <th>std</th>\n",
       "      <th>min</th>\n",
       "      <th>25%</th>\n",
       "      <th>50%</th>\n",
       "      <th>75%</th>\n",
       "      <th>max</th>\n",
       "    </tr>\n",
       "  </thead>\n",
       "  <tbody>\n",
       "    <tr>\n",
       "      <th>longitude</th>\n",
       "      <td>20640.0</td>\n",
       "      <td>-119.569704</td>\n",
       "      <td>2.003532</td>\n",
       "      <td>-124.3500</td>\n",
       "      <td>-121.8000</td>\n",
       "      <td>-118.4900</td>\n",
       "      <td>-118.01000</td>\n",
       "      <td>-114.3100</td>\n",
       "    </tr>\n",
       "    <tr>\n",
       "      <th>latitude</th>\n",
       "      <td>20640.0</td>\n",
       "      <td>35.631861</td>\n",
       "      <td>2.135952</td>\n",
       "      <td>32.5400</td>\n",
       "      <td>33.9300</td>\n",
       "      <td>34.2600</td>\n",
       "      <td>37.71000</td>\n",
       "      <td>41.9500</td>\n",
       "    </tr>\n",
       "    <tr>\n",
       "      <th>housing_median_age</th>\n",
       "      <td>20640.0</td>\n",
       "      <td>28.639486</td>\n",
       "      <td>12.585558</td>\n",
       "      <td>1.0000</td>\n",
       "      <td>18.0000</td>\n",
       "      <td>29.0000</td>\n",
       "      <td>37.00000</td>\n",
       "      <td>52.0000</td>\n",
       "    </tr>\n",
       "    <tr>\n",
       "      <th>total_rooms</th>\n",
       "      <td>20640.0</td>\n",
       "      <td>2635.763081</td>\n",
       "      <td>2181.615252</td>\n",
       "      <td>2.0000</td>\n",
       "      <td>1447.7500</td>\n",
       "      <td>2127.0000</td>\n",
       "      <td>3148.00000</td>\n",
       "      <td>39320.0000</td>\n",
       "    </tr>\n",
       "    <tr>\n",
       "      <th>total_bedrooms</th>\n",
       "      <td>20433.0</td>\n",
       "      <td>537.870553</td>\n",
       "      <td>421.385070</td>\n",
       "      <td>1.0000</td>\n",
       "      <td>296.0000</td>\n",
       "      <td>435.0000</td>\n",
       "      <td>647.00000</td>\n",
       "      <td>6445.0000</td>\n",
       "    </tr>\n",
       "    <tr>\n",
       "      <th>population</th>\n",
       "      <td>20640.0</td>\n",
       "      <td>1425.476744</td>\n",
       "      <td>1132.462122</td>\n",
       "      <td>3.0000</td>\n",
       "      <td>787.0000</td>\n",
       "      <td>1166.0000</td>\n",
       "      <td>1725.00000</td>\n",
       "      <td>35682.0000</td>\n",
       "    </tr>\n",
       "    <tr>\n",
       "      <th>households</th>\n",
       "      <td>20640.0</td>\n",
       "      <td>499.539680</td>\n",
       "      <td>382.329753</td>\n",
       "      <td>1.0000</td>\n",
       "      <td>280.0000</td>\n",
       "      <td>409.0000</td>\n",
       "      <td>605.00000</td>\n",
       "      <td>6082.0000</td>\n",
       "    </tr>\n",
       "    <tr>\n",
       "      <th>median_income</th>\n",
       "      <td>20640.0</td>\n",
       "      <td>3.870671</td>\n",
       "      <td>1.899822</td>\n",
       "      <td>0.4999</td>\n",
       "      <td>2.5634</td>\n",
       "      <td>3.5348</td>\n",
       "      <td>4.74325</td>\n",
       "      <td>15.0001</td>\n",
       "    </tr>\n",
       "    <tr>\n",
       "      <th>median_house_value</th>\n",
       "      <td>20640.0</td>\n",
       "      <td>206855.816909</td>\n",
       "      <td>115395.615874</td>\n",
       "      <td>14999.0000</td>\n",
       "      <td>119600.0000</td>\n",
       "      <td>179700.0000</td>\n",
       "      <td>264725.00000</td>\n",
       "      <td>500001.0000</td>\n",
       "    </tr>\n",
       "  </tbody>\n",
       "</table>\n",
       "</div>"
      ],
      "text/plain": [
       "                      count           mean            std         min  \\\n",
       "longitude           20640.0    -119.569704       2.003532   -124.3500   \n",
       "latitude            20640.0      35.631861       2.135952     32.5400   \n",
       "housing_median_age  20640.0      28.639486      12.585558      1.0000   \n",
       "total_rooms         20640.0    2635.763081    2181.615252      2.0000   \n",
       "total_bedrooms      20433.0     537.870553     421.385070      1.0000   \n",
       "population          20640.0    1425.476744    1132.462122      3.0000   \n",
       "households          20640.0     499.539680     382.329753      1.0000   \n",
       "median_income       20640.0       3.870671       1.899822      0.4999   \n",
       "median_house_value  20640.0  206855.816909  115395.615874  14999.0000   \n",
       "\n",
       "                            25%          50%           75%          max  \n",
       "longitude             -121.8000    -118.4900    -118.01000    -114.3100  \n",
       "latitude                33.9300      34.2600      37.71000      41.9500  \n",
       "housing_median_age      18.0000      29.0000      37.00000      52.0000  \n",
       "total_rooms           1447.7500    2127.0000    3148.00000   39320.0000  \n",
       "total_bedrooms         296.0000     435.0000     647.00000    6445.0000  \n",
       "population             787.0000    1166.0000    1725.00000   35682.0000  \n",
       "households             280.0000     409.0000     605.00000    6082.0000  \n",
       "median_income            2.5634       3.5348       4.74325      15.0001  \n",
       "median_house_value  119600.0000  179700.0000  264725.00000  500001.0000  "
      ]
     },
     "execution_count": 203,
     "metadata": {},
     "output_type": "execute_result"
    }
   ],
   "source": [
    "df.describe().T"
   ]
  },
  {
   "cell_type": "code",
   "execution_count": 204,
   "id": "66b4d616-9384-4e63-be6e-36986a0c73e2",
   "metadata": {},
   "outputs": [],
   "source": [
    "df = df[(df.ocean_proximity == '<1H OCEAN') | (df.ocean_proximity == 'INLAND')]"
   ]
  },
  {
   "cell_type": "code",
   "execution_count": 205,
   "id": "0ce9d291-4eae-405f-baae-024b537c1b33",
   "metadata": {},
   "outputs": [],
   "source": [
    "df = df[['latitude',\n",
    "'longitude',\n",
    "'housing_median_age',\n",
    "'total_rooms',\n",
    "'total_bedrooms',\n",
    "'population',\n",
    "'households',\n",
    "'median_income',\n",
    "'median_house_value']]"
   ]
  },
  {
   "cell_type": "code",
   "execution_count": 206,
   "id": "fb5857bc-53cb-4d17-87b7-bf90cd1070fd",
   "metadata": {},
   "outputs": [
    {
     "data": {
      "text/plain": [
       "latitude                0\n",
       "longitude               0\n",
       "housing_median_age      0\n",
       "total_rooms             0\n",
       "total_bedrooms        157\n",
       "population              0\n",
       "households              0\n",
       "median_income           0\n",
       "median_house_value      0\n",
       "dtype: int64"
      ]
     },
     "execution_count": 206,
     "metadata": {},
     "output_type": "execute_result"
    }
   ],
   "source": [
    "df.isnull().sum()"
   ]
  },
  {
   "cell_type": "code",
   "execution_count": 207,
   "id": "e97e1c03-926e-49b0-bf4b-172b19349efa",
   "metadata": {},
   "outputs": [
    {
     "data": {
      "text/plain": [
       "1195.0"
      ]
     },
     "execution_count": 207,
     "metadata": {},
     "output_type": "execute_result"
    }
   ],
   "source": [
    "df.population.median()"
   ]
  },
  {
   "cell_type": "code",
   "execution_count": 208,
   "id": "36886f41-f00a-4cb2-b614-5b0837bd6d7c",
   "metadata": {},
   "outputs": [],
   "source": [
    "df[\"median_value_log\"] = np.log1p(df.median_house_value)"
   ]
  },
  {
   "cell_type": "code",
   "execution_count": 209,
   "id": "32649df5-a77b-42c8-ab27-b30a0b3686c3",
   "metadata": {},
   "outputs": [
    {
     "name": "stderr",
     "output_type": "stream",
     "text": [
      "/Users/naveed/miniconda3/envs/mlz1/lib/python3.11/site-packages/seaborn/_oldcore.py:1498: FutureWarning: is_categorical_dtype is deprecated and will be removed in a future version. Use isinstance(dtype, CategoricalDtype) instead\n",
      "  if pd.api.types.is_categorical_dtype(vector):\n",
      "/Users/naveed/miniconda3/envs/mlz1/lib/python3.11/site-packages/seaborn/_oldcore.py:1119: FutureWarning: use_inf_as_na option is deprecated and will be removed in a future version. Convert inf values to NaN before operating instead.\n",
      "  with pd.option_context('mode.use_inf_as_na', True):\n"
     ]
    },
    {
     "data": {
      "text/plain": [
       "<Axes: xlabel='median_value_log', ylabel='Count'>"
      ]
     },
     "execution_count": 209,
     "metadata": {},
     "output_type": "execute_result"
    },
    {
     "data": {
      "image/png": "[encoded data removed]",
      "text/plain": [
       "<Figure size 640x480 with 1 Axes>"
      ]
     },
     "metadata": {},
     "output_type": "display_data"
    }
   ],
   "source": [
    "sns.histplot(df.median_value_log)"
   ]
  },
  {
   "cell_type": "code",
   "execution_count": 245,
   "id": "b8fb2bf0-cd8e-4a5e-be3e-a049046a76f7",
   "metadata": {},
   "outputs": [],
   "source": [
    "train_pct = .6\n",
    "test_pct = .2\n",
    "val_pct = .2\n"
   ]
  },
  {
   "cell_type": "code",
   "execution_count": 213,
   "id": "8695b82e-5fed-4759-94de-36df9740dabe",
   "metadata": {},
   "outputs": [],
   "source": [
    "random_vals = np.arange(len(df))\n",
    "test_len = int(np.round(len(random_vals)*test_pct))\n",
    "val_len = int(np.round(len(random_vals)*val_pct))\n",
    "np.random.seed(42)\n",
    "np.random.shuffle(random_vals)\n",
    "test_rows = random_vals[0:test_len]\n",
    "val_rows = random_vals[test_len:test_len+val_len]\n",
    "train_rows = random_vals[test_len+val_len:]\n",
    "test_df = df.iloc[test_rows]\n",
    "val_df = df.iloc[val_rows]\n",
    "train_df = df.iloc[train_rows]\n",
    "test_df.reset_index(inplace=True)\n",
    "val_df.reset_index(inplace=True)\n",
    "train_df.reset_index(inplace=True)\n",
    "y_train = train_df[\"median_value_log\"]\n",
    "X_train = train_df.drop(columns=[\"median_value_log\", \"median_house_value\"])\n",
    "y_val = val_df[\"median_value_log\"]\n",
    "X_val = val_df.drop(columns=[\"median_value_log\", \"median_house_value\"])\n",
    "y_test = test_df[\"median_value_log\"]\n",
    "X_test = test_df.drop(columns=[\"median_value_log\", \"median_house_value\"])\n"
   ]
  },
  {
   "cell_type": "code",
   "execution_count": 247,
   "id": "63d51a22-71d3-4c39-8e5a-3822bf0cbf8f",
   "metadata": {},
   "outputs": [
    {
     "data": {
      "text/plain": [
       "15687"
      ]
     },
     "execution_count": 247,
     "metadata": {},
     "output_type": "execute_result"
    }
   ],
   "source": [
    "len(train_rows) + len(val_rows) + len(test_rows)"
   ]
  },
  {
   "cell_type": "code",
   "execution_count": 227,
   "id": "22440139-35cc-4cb2-a8d1-4b71ada8265a",
   "metadata": {},
   "outputs": [],
   "source": [
    "def prep_X_0(X): \n",
    "    return X.total_bedrooms.fillna(0, inplace=True)\n",
    "\n",
    "def prep_X_m(X):\n",
    "    return X.total_bedrooms.fillna(X.total_bedrooms.mean() , inplace=True)"
   ]
  },
  {
   "cell_type": "code",
   "execution_count": 228,
   "id": "47c6b884-d6e3-4ac6-9293-a23e5f11327a",
   "metadata": {},
   "outputs": [
    {
     "data": {
      "text/plain": [
       "index                 0\n",
       "latitude              0\n",
       "longitude             0\n",
       "housing_median_age    0\n",
       "total_rooms           0\n",
       "total_bedrooms        0\n",
       "population            0\n",
       "households            0\n",
       "median_income         0\n",
       "dtype: int64"
      ]
     },
     "execution_count": 228,
     "metadata": {},
     "output_type": "execute_result"
    }
   ],
   "source": [
    "prep_X_0(X_train)\n",
    "X_train.isnull().sum()"
   ]
  },
  {
   "cell_type": "code",
   "execution_count": 241,
   "id": "a681ecea-3ca1-4531-b6b2-19d1a1e57fe4",
   "metadata": {},
   "outputs": [],
   "source": [
    "def linear_reg(X, y, reg=0.0):\n",
    "    #add ones\n",
    "    one_arr = np.ones(X.shape[0]).tolist()\n",
    "    X['bias'] = one_arr\n",
    "    #print (X.shape)\n",
    "    #eye1 = r * np.eye(X.shape[0])\n",
    "    #print (eye1.shape)\n",
    "    XTX = X.T.dot(X)\n",
    "    #print (XTX.shape)\n",
    "    \n",
    "    XTX = XTX + reg * np.eye(XTX.shape[0])\n",
    "    XTX_inv = np.linalg.inv(XTX)\n",
    "    w_full = XTX_inv.dot(X.T).dot(y)\n",
    "    return w_full"
   ]
  },
  {
   "cell_type": "code",
   "execution_count": 233,
   "id": "1acc95b4-e3f6-4d23-8146-875ef5bb12f7",
   "metadata": {},
   "outputs": [
    {
     "name": "stdout",
     "output_type": "stream",
     "text": [
      "(9413, 10)\n",
      "(10, 10)\n"
     ]
    }
   ],
   "source": [
    "w_train = linear_reg(X_train, y_train)\n"
   ]
  },
  {
   "cell_type": "code",
   "execution_count": 234,
   "id": "c330e77c-17f6-4f44-8ecc-00c9ce59fd32",
   "metadata": {},
   "outputs": [
    {
     "name": "stderr",
     "output_type": "stream",
     "text": [
      "/Users/naveed/miniconda3/envs/mlz1/lib/python3.11/site-packages/seaborn/_oldcore.py:1498: FutureWarning: is_categorical_dtype is deprecated and will be removed in a future version. Use isinstance(dtype, CategoricalDtype) instead\n",
      "  if pd.api.types.is_categorical_dtype(vector):\n",
      "/Users/naveed/miniconda3/envs/mlz1/lib/python3.11/site-packages/seaborn/_oldcore.py:1119: FutureWarning: use_inf_as_na option is deprecated and will be removed in a future version. Convert inf values to NaN before operating instead.\n",
      "  with pd.option_context('mode.use_inf_as_na', True):\n",
      "/Users/naveed/miniconda3/envs/mlz1/lib/python3.11/site-packages/seaborn/_oldcore.py:1498: FutureWarning: is_categorical_dtype is deprecated and will be removed in a future version. Use isinstance(dtype, CategoricalDtype) instead\n",
      "  if pd.api.types.is_categorical_dtype(vector):\n",
      "/Users/naveed/miniconda3/envs/mlz1/lib/python3.11/site-packages/seaborn/_oldcore.py:1119: FutureWarning: use_inf_as_na option is deprecated and will be removed in a future version. Convert inf values to NaN before operating instead.\n",
      "  with pd.option_context('mode.use_inf_as_na', True):\n"
     ]
    },
    {
     "data": {
      "text/plain": [
       "<Axes: xlabel='median_value_log', ylabel='Count'>"
      ]
     },
     "execution_count": 234,
     "metadata": {},
     "output_type": "execute_result"
    },
    {
     "data": {
      "image/png": "[encoded data removed]",
      "text/plain": [
       "<Figure size 640x480 with 1 Axes>"
      ]
     },
     "metadata": {},
     "output_type": "display_data"
    }
   ],
   "source": [
    "sns.histplot(X_train.dot(w_train), alpha=.5)\n",
    "sns.histplot(y_train, alpha=.5)"
   ]
  },
  {
   "cell_type": "code",
   "execution_count": 243,
   "id": "6602f4ac-ca19-48f4-bb6d-f09783f8612c",
   "metadata": {},
   "outputs": [],
   "source": [
    "def rmse(pred, y):\n",
    "    res = 0.0\n",
    "    for p, y in zip(pred, y):\n",
    "        res += np.square(p-y)\n",
    "    return np.round(np.sqrt(res), 7)"
   ]
  },
  {
   "cell_type": "code",
   "execution_count": 236,
   "id": "ba58975c-454c-46aa-bc31-0fd870a67bdb",
   "metadata": {},
   "outputs": [
    {
     "data": {
      "text/plain": [
       "29.62"
      ]
     },
     "execution_count": 236,
     "metadata": {},
     "output_type": "execute_result"
    }
   ],
   "source": [
    "rmse(X_train.dot(w), y_train)"
   ]
  },
  {
   "cell_type": "code",
   "execution_count": 259,
   "id": "03cba63f-ce0c-433b-bb51-c0386e587e2b",
   "metadata": {},
   "outputs": [
    {
     "data": {
      "text/html": [
       "<div>\n",
       "<style scoped>\n",
       "    .dataframe tbody tr th:only-of-type {\n",
       "        vertical-align: middle;\n",
       "    }\n",
       "\n",
       "    .dataframe tbody tr th {\n",
       "        vertical-align: top;\n",
       "    }\n",
       "\n",
       "    .dataframe thead th {\n",
       "        text-align: right;\n",
       "    }\n",
       "</style>\n",
       "<table border=\"1\" class=\"dataframe\">\n",
       "  <thead>\n",
       "    <tr style=\"text-align: right;\">\n",
       "      <th></th>\n",
       "      <th>index</th>\n",
       "      <th>latitude</th>\n",
       "      <th>longitude</th>\n",
       "      <th>housing_median_age</th>\n",
       "      <th>total_rooms</th>\n",
       "      <th>total_bedrooms</th>\n",
       "      <th>population</th>\n",
       "      <th>households</th>\n",
       "      <th>median_income</th>\n",
       "      <th>bias</th>\n",
       "    </tr>\n",
       "  </thead>\n",
       "  <tbody>\n",
       "    <tr>\n",
       "      <th>0</th>\n",
       "      <td>7735</td>\n",
       "      <td>33.93</td>\n",
       "      <td>-118.13</td>\n",
       "      <td>34.0</td>\n",
       "      <td>2122.0</td>\n",
       "      <td>517.0</td>\n",
       "      <td>1578.0</td>\n",
       "      <td>488.0</td>\n",
       "      <td>3.1496</td>\n",
       "      <td>1.0</td>\n",
       "    </tr>\n",
       "    <tr>\n",
       "      <th>1</th>\n",
       "      <td>7736</td>\n",
       "      <td>33.93</td>\n",
       "      <td>-118.13</td>\n",
       "      <td>19.0</td>\n",
       "      <td>1793.0</td>\n",
       "      <td>447.0</td>\n",
       "      <td>1222.0</td>\n",
       "      <td>452.0</td>\n",
       "      <td>2.6862</td>\n",
       "      <td>1.0</td>\n",
       "    </tr>\n",
       "    <tr>\n",
       "      <th>2</th>\n",
       "      <td>7737</td>\n",
       "      <td>33.94</td>\n",
       "      <td>-118.14</td>\n",
       "      <td>31.0</td>\n",
       "      <td>2841.0</td>\n",
       "      <td>774.0</td>\n",
       "      <td>1612.0</td>\n",
       "      <td>708.0</td>\n",
       "      <td>2.9205</td>\n",
       "      <td>1.0</td>\n",
       "    </tr>\n",
       "    <tr>\n",
       "      <th>3</th>\n",
       "      <td>7738</td>\n",
       "      <td>33.94</td>\n",
       "      <td>-118.14</td>\n",
       "      <td>35.0</td>\n",
       "      <td>2987.0</td>\n",
       "      <td>601.0</td>\n",
       "      <td>1561.0</td>\n",
       "      <td>606.0</td>\n",
       "      <td>4.0039</td>\n",
       "      <td>1.0</td>\n",
       "    </tr>\n",
       "    <tr>\n",
       "      <th>4</th>\n",
       "      <td>7739</td>\n",
       "      <td>33.94</td>\n",
       "      <td>-118.15</td>\n",
       "      <td>36.0</td>\n",
       "      <td>1948.0</td>\n",
       "      <td>341.0</td>\n",
       "      <td>992.0</td>\n",
       "      <td>363.0</td>\n",
       "      <td>4.2594</td>\n",
       "      <td>1.0</td>\n",
       "    </tr>\n",
       "  </tbody>\n",
       "</table>\n",
       "</div>"
      ],
      "text/plain": [
       "   index  latitude  longitude  housing_median_age  total_rooms  \\\n",
       "0   7735     33.93    -118.13                34.0       2122.0   \n",
       "1   7736     33.93    -118.13                19.0       1793.0   \n",
       "2   7737     33.94    -118.14                31.0       2841.0   \n",
       "3   7738     33.94    -118.14                35.0       2987.0   \n",
       "4   7739     33.94    -118.15                36.0       1948.0   \n",
       "\n",
       "   total_bedrooms  population  households  median_income  bias  \n",
       "0           517.0      1578.0       488.0         3.1496   1.0  \n",
       "1           447.0      1222.0       452.0         2.6862   1.0  \n",
       "2           774.0      1612.0       708.0         2.9205   1.0  \n",
       "3           601.0      1561.0       606.0         4.0039   1.0  \n",
       "4           341.0       992.0       363.0         4.2594   1.0  "
      ]
     },
     "execution_count": 259,
     "metadata": {},
     "output_type": "execute_result"
    }
   ],
   "source": [
    "X_train.head()"
   ]
  },
  {
   "cell_type": "code",
   "execution_count": 237,
   "id": "9772ff82-4535-4711-a93a-a51e562a979b",
   "metadata": {},
   "outputs": [
    {
     "name": "stdout",
     "output_type": "stream",
     "text": [
      "(3137, 10)\n",
      "(10, 10)\n"
     ]
    },
    {
     "data": {
      "text/plain": [
       "16.49"
      ]
     },
     "execution_count": 237,
     "metadata": {},
     "output_type": "execute_result"
    }
   ],
   "source": [
    "# 29.611579585007636 with mean\n",
    "# 29.61893763142995 with 0\n",
    "prep_X_0(X_val)\n",
    "w_val = linear_reg(X_val, y_val)\n",
    "pred_val = X_val.dot(w_val)\n",
    "rmse(pred_val, y_val)"
   ]
  },
  {
   "cell_type": "code",
   "execution_count": 238,
   "id": "e3df65ca-b60b-4b56-b033-cbbf3f8c7a35",
   "metadata": {},
   "outputs": [],
   "source": [
    "# 16.49 is with 0 and mean\n",
    "r = [0, 0.000001, 0.0001, 0.001, 0.01, 0.1, 1, 5, 10]"
   ]
  },
  {
   "cell_type": "code",
   "execution_count": 239,
   "id": "2daaf209-877e-4f0a-8432-d9116bef6791",
   "metadata": {},
   "outputs": [
    {
     "data": {
      "text/plain": [
       "3137"
      ]
     },
     "execution_count": 239,
     "metadata": {},
     "output_type": "execute_result"
    }
   ],
   "source": [
    "len(.01 * np.eye(X_val.shape[0]))"
   ]
  },
  {
   "cell_type": "code",
   "execution_count": 253,
   "id": "41b6d8e4-ac92-40ee-98bb-22d83a397e2b",
   "metadata": {},
   "outputs": [
    {
     "name": "stdout",
     "output_type": "stream",
     "text": [
      "0 90523.6583741\n",
      "1e-06 90523.5872952\n",
      "0.0001 90516.551834\n",
      "0.001 90452.7083026\n",
      "0.01 89825.4892397\n",
      "0.1 84503.4984232\n",
      "1 65201.8284773\n",
      "5 55106.3779959\n",
      "10 53240.046618\n"
     ]
    }
   ],
   "source": [
    "prep_X_0(X_train)\n",
    "prep_X_0(X_val)\n",
    "for v in r:\n",
    "    w_train = linear_reg(X_train, y_train, reg=v)\n",
    "    pred_val = w_train[0] + X_val.dot(w_train[1:])\n",
    "    print(v, rmse(pred_val, y_val))\n",
    "\n",
    "    "
   ]
  },
  {
   "cell_type": "code",
   "execution_count": 267,
   "id": "7bedbffd-288c-49a9-9b4e-77e99b340304",
   "metadata": {},
   "outputs": [
    {
     "name": "stdout",
     "output_type": "stream",
     "text": [
      "[4560.3235264, 4258.2501831, 4327.9396765, 4341.035287, 4022.6702162, 4239.4302759, 4709.4261056, 4131.7623122, 4590.064592, 4250.0867916]\n"
     ]
    },
    {
     "data": {
      "text/plain": [
       "204.09402462939073"
      ]
     },
     "execution_count": 267,
     "metadata": {},
     "output_type": "execute_result"
    }
   ],
   "source": [
    "random_vals = np.arange(len(df))\n",
    "test_len = int(np.round(len(random_vals)*test_pct))\n",
    "val_len = int(np.round(len(random_vals)*val_pct))\n",
    "rmse_list = []\n",
    "for rs in [0, 1, 2, 3, 4, 5, 6, 7, 8, 9]:\n",
    "    np.random.seed(rs)\n",
    "    np.random.shuffle(random_vals)\n",
    "    test_rows = random_vals[0:test_len]\n",
    "    val_rows = random_vals[test_len:test_len+val_len]\n",
    "    train_rows = random_vals[test_len+val_len:]\n",
    "    \n",
    "    test_df = df.iloc[test_rows]\n",
    "    val_df = df.iloc[val_rows]\n",
    "    train_df = df.iloc[train_rows]\n",
    "    test_df.reset_index(inplace=True, drop=True)\n",
    "    val_df.reset_index(inplace=True, drop=True)\n",
    "    train_df.reset_index(inplace=True, drop=True)\n",
    "    y_train = train_df[\"median_value_log\"]\n",
    "    X_train = train_df.drop(columns=[\"median_value_log\", \"median_house_value\"])\n",
    "    y_val = val_df[\"median_value_log\"]\n",
    "    X_val = val_df.drop(columns=[\"median_value_log\", \"median_house_value\"])\n",
    "    y_test = test_df[\"median_value_log\"]\n",
    "    X_test = test_df.drop(columns=[\"median_value_log\", \"median_house_value\"])\n",
    "    prep_X_0(X_train)\n",
    "    prep_X_0(X_val)\n",
    "    w_train = linear_reg(X_train, y_train)\n",
    "    pred_val = w_train[0] + X_val.dot(w_train[1:])\n",
    "    rmse_list.append(rmse(pred_val, y_val))\n",
    "print (rmse_list)\n",
    "np.std(rmse_list)\n"
   ]
  },
  {
   "cell_type": "code",
   "execution_count": 272,
   "id": "e2d57ffb-b3a0-4a23-a954-963b372fb8c7",
   "metadata": {},
   "outputs": [
    {
     "name": "stdout",
     "output_type": "stream",
     "text": [
      "[4113.4129421]\n"
     ]
    },
    {
     "data": {
      "text/plain": [
       "0.0"
      ]
     },
     "execution_count": 272,
     "metadata": {},
     "output_type": "execute_result"
    }
   ],
   "source": [
    "random_vals = np.arange(len(df))\n",
    "test_len = int(np.round(len(random_vals)*test_pct))\n",
    "val_len = int(np.round(len(random_vals)*val_pct))\n",
    "rmse_list = []\n",
    "np.random.seed(9)\n",
    "np.random.shuffle(random_vals)\n",
    "test_rows = random_vals[0:test_len]\n",
    "val_rows = random_vals[test_len:test_len+val_len]\n",
    "train_rows = random_vals[test_len+val_len:]\n",
    "\n",
    "test_df = df.iloc[test_rows]\n",
    "val_df = df.iloc[val_rows]\n",
    "train_df = df.iloc[train_rows]\n",
    "test_df.reset_index(inplace=True, drop=True)\n",
    "val_df.reset_index(inplace=True, drop=True)\n",
    "train_df.reset_index(inplace=True, drop=True)\n",
    "y_train = train_df[\"median_value_log\"]\n",
    "X_train = train_df.drop(columns=[\"median_value_log\", \"median_house_value\"])\n",
    "y_val = val_df[\"median_value_log\"]\n",
    "X_val = val_df.drop(columns=[\"median_value_log\", \"median_house_value\"])\n",
    "y_test = test_df[\"median_value_log\"]\n",
    "X_test = test_df.drop(columns=[\"median_value_log\", \"median_house_value\"])\n",
    "\n",
    "#combine X_train and X_val \n",
    "prep_X_0(X_train)\n",
    "prep_X_0(X_val)\n",
    "prep_X_0(X_test)\n",
    "X_fulltrain = pd.concat([X_train, X_val])\n",
    "y_fulltrain = pd.concat([y_train, y_val])\n",
    "w_fulltrain = linear_reg(X_fulltrain, y_fulltrain, reg=.001)\n",
    "pred_test = w_fulltrain[0] + X_test.dot(w_fulltrain[1:])\n",
    "rmse_list.append(rmse(pred_test, y_fulltrain))\n",
    "print (rmse_list)\n",
    "np.std(rmse_list)\n"
   ]
  },
  {
   "cell_type": "code",
   "execution_count": null,
   "id": "0f00f1db-8073-4da1-b5cd-775ed52f0a5d",
   "metadata": {},
   "outputs": [],
   "source": []
  }
 ],
 "metadata": {
  "kernelspec": {
   "display_name": "Python 3 (ipykernel)",
   "language": "python",
   "name": "python3"
  },
  "language_info": {
   "codemirror_mode": {
    "name": "ipython",
    "version": 3
   },
   "file_extension": ".py",
   "mimetype": "text/x-python",
   "name": "python",
   "nbconvert_exporter": "python",
   "pygments_lexer": "ipython3",
   "version": "3.11.5"
  }
 },
 "nbformat": 4,
 "nbformat_minor": 5
}
