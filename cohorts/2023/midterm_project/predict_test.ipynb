{
 "cells": [
  {
   "cell_type": "code",
   "execution_count": 35,
   "id": "0f2c2736-e2a4-48ae-8631-a4c3c4a28489",
   "metadata": {},
   "outputs": [],
   "source": [
    "import requests"
   ]
  },
  {
   "cell_type": "code",
   "execution_count": 79,
   "id": "1f94c2d2-c85e-41d7-aa56-19c9b4779471",
   "metadata": {},
   "outputs": [],
   "source": [
    "url = \"http://127.0.0.1:8000/predict\""
   ]
  },
  {
   "cell_type": "code",
   "execution_count": null,
   "id": "03c9089b-1379-4bfb-8159-a46463c4d9a1",
   "metadata": {},
   "outputs": [],
   "source": [
    "url = \"https://midterm1-mjtc2hgtpa-uc.a.run.app/predict\""
   ]
  },
  {
   "cell_type": "code",
   "execution_count": null,
   "id": "aaeef83a-f3ba-48f1-9fab-30139a7f4816",
   "metadata": {},
   "outputs": [],
   "source": [
    "customer = {'hotel': 'City Hotel',\n",
    " 'lead_time': 0,\n",
    " 'arrival_date_year': 2016,\n",
    " 'arrival_date_month': 'October',\n",
    " 'arrival_date_week_number': 44,\n",
    " 'arrival_date_day_of_month': 25,\n",
    " 'stays_in_weekend_nights': 0,\n",
    " 'stays_in_week_nights': 3,\n",
    " 'adults': 10,\n",
    " 'children': 0.0,\n",
    " 'babies': 0,\n",
    " 'meal': 'BB',\n",
    " 'country_code': 'PRT',\n",
    " 'market_segment': 'Online TA',\n",
    " 'distribution_channel': 'TA/TO',\n",
    " 'is_repeated_guest': 0,\n",
    " 'previous_cancellations': 0,\n",
    " 'previous_bookings_not_canceled': 0,\n",
    " 'reserved_room_type': 'A',\n",
    " 'assigned_room_type': 'A',\n",
    " 'booking_changes': 0,\n",
    " 'deposit_type': 'No Deposit',\n",
    " 'agent': 9.0,\n",
    " 'company': \"\",\n",
    " 'days_in_waiting_list': 0,\n",
    " 'customer_type': 'Transient',\n",
    " 'adr': 129.0,\n",
    " 'required_car_parking_spaces': 1,\n",
    " 'total_of_special_requests': 0,\n",
    " 'reservation_status': 'Check-Out',\n",
    " 'reservation_status_date': '28-10-2016',\n",
    " 'name': 'Patricia Martin',\n",
    " 'email': 'Patricia_M@att.com',\n",
    " 'phone_number': '581-432-0373',\n",
    " 'credit_card': '************5314'}"
   ]
  },
  {
   "cell_type": "code",
   "execution_count": null,
   "id": "9b9941eb-db9a-4865-b29f-88feb69c1bb7",
   "metadata": {},
   "outputs": [],
   "source": [
    "r = requests.post(url, json=customer)"
   ]
  },
  {
   "cell_type": "code",
   "execution_count": null,
   "id": "a692763d-3ee2-4f36-9a8e-cedf980513d1",
   "metadata": {},
   "outputs": [],
   "source": [
    "r.text"
   ]
  },
  {
   "cell_type": "code",
   "execution_count": null,
   "id": "e92c1b34-0c69-45e9-b524-5094eb59a730",
   "metadata": {},
   "outputs": [],
   "source": [
    "!pip install pipenv"
   ]
  },
  {
   "cell_type": "code",
   "execution_count": null,
   "id": "7781def8-1bd4-4df8-9e13-6dc67d47e0ad",
   "metadata": {},
   "outputs": [],
   "source": []
  }
 ],
 "metadata": {
  "kernelspec": {
   "display_name": "Python 3 (ipykernel)",
   "language": "python",
   "name": "python3"
  },
  "language_info": {
   "codemirror_mode": {
    "name": "ipython",
    "version": 3
   },
   "file_extension": ".py",
   "mimetype": "text/x-python",
   "name": "python",
   "nbconvert_exporter": "python",
   "pygments_lexer": "ipython3",
   "version": "3.11.5"
  }
 },
 "nbformat": 4,
 "nbformat_minor": 5
}
