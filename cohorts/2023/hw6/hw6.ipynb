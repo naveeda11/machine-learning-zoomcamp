{
 "cells": [
  {
   "cell_type": "code",
   "execution_count": 108,
   "id": "d1270ff5-b04d-4f37-b16d-766f610b6fab",
   "metadata": {},
   "outputs": [],
   "source": [
    "import pandas as pd\n",
    "import numpy as np\n",
    "from sklearn.model_selection import train_test_split\n",
    "from sklearn.tree import DecisionTreeRegressor\n",
    "from sklearn.feature_extraction import DictVectorizer\n",
    "from sklearn.metrics import roc_auc_score\n",
    "from sklearn import tree"
   ]
  },
  {
   "cell_type": "code",
   "execution_count": 90,
   "id": "598f1b57-0b43-4983-9a36-d173893a8e18",
   "metadata": {},
   "outputs": [],
   "source": [
    "df = pd.read_csv(\"housing.csv\")"
   ]
  },
  {
   "cell_type": "code",
   "execution_count": 91,
   "id": "f3ba2bfa-dc05-42a8-82c4-f2d98e95490a",
   "metadata": {},
   "outputs": [],
   "source": [
    "df= df[(df[\"ocean_proximity\"]=='<1H OCEAN') | (df[\"ocean_proximity\"]=='INLAND') ]"
   ]
  },
  {
   "cell_type": "code",
   "execution_count": 92,
   "id": "7a66db53-3f3b-4e2c-8359-94d8414df5c1",
   "metadata": {},
   "outputs": [],
   "source": [
    "df  = df.fillna(0)"
   ]
  },
  {
   "cell_type": "code",
   "execution_count": 93,
   "id": "81347688-f9c3-4f8c-ab2e-c5a8870b6bc3",
   "metadata": {},
   "outputs": [],
   "source": [
    "df[\"median_house_value\"] = np.log1p(df[\"median_house_value\"])"
   ]
  },
  {
   "cell_type": "code",
   "execution_count": 94,
   "id": "aa5a5a86-0c8b-409a-bc5a-211e666f7d73",
   "metadata": {},
   "outputs": [],
   "source": [
    "df_fulltrain, df_test = train_test_split(df, test_size=.2, random_state=1)\n",
    "df_train, df_val = train_test_split(df_fulltrain, test_size=.25, random_state=1)"
   ]
  },
  {
   "cell_type": "code",
   "execution_count": 95,
   "id": "f21c656d-0abe-4f02-ab9e-55b4ffce33c4",
   "metadata": {},
   "outputs": [],
   "source": [
    "df_train = df_train.reset_index(drop=True)\n",
    "df_val = df_val.reset_index(drop=True)\n",
    "df_test = df_test.reset_index(drop=True)"
   ]
  },
  {
   "cell_type": "code",
   "execution_count": 96,
   "id": "d7b13aa7-53e8-47ad-ac61-8083b69b5fa7",
   "metadata": {},
   "outputs": [],
   "source": [
    "y_train = df_train[\"median_house_value\"].values\n",
    "y_val = df_val[\"median_house_value\"].values\n",
    "y_test = df_test[\"median_house_value\"].values"
   ]
  },
  {
   "cell_type": "code",
   "execution_count": 97,
   "id": "44885f2f-ffcc-48b1-b600-0d038ea3cf19",
   "metadata": {},
   "outputs": [],
   "source": [
    "del df_train[\"median_house_value\"]\n",
    "del df_val[\"median_house_value\"]\n",
    "del df_test[\"median_house_value\"]"
   ]
  },
  {
   "cell_type": "code",
   "execution_count": 98,
   "id": "037b7489-3504-400c-b043-98ed118a983d",
   "metadata": {},
   "outputs": [],
   "source": [
    "train_dicts = df_train.to_dict(orient='records')"
   ]
  },
  {
   "cell_type": "code",
   "execution_count": 99,
   "id": "5cff758c-0431-43ce-a1fa-f6ed1620251c",
   "metadata": {},
   "outputs": [],
   "source": [
    "dv = DictVectorizer(sparse=True)\n",
    "X_train = dv.fit_transform(train_dicts)"
   ]
  },
  {
   "cell_type": "code",
   "execution_count": 103,
   "id": "9207d96e-980d-4547-a31c-af87cd44e103",
   "metadata": {},
   "outputs": [
    {
     "data": {
      "text/html": [
       "<style>#sk-container-id-8 {color: black;}#sk-container-id-8 pre{padding: 0;}#sk-container-id-8 div.sk-toggleable {background-color: white;}#sk-container-id-8 label.sk-toggleable__label {cursor: pointer;display: block;width: 100%;margin-bottom: 0;padding: 0.3em;box-sizing: border-box;text-align: center;}#sk-container-id-8 label.sk-toggleable__label-arrow:before {content: \"▸\";float: left;margin-right: 0.25em;color: #696969;}#sk-container-id-8 label.sk-toggleable__label-arrow:hover:before {color: black;}#sk-container-id-8 div.sk-estimator:hover label.sk-toggleable__label-arrow:before {color: black;}#sk-container-id-8 div.sk-toggleable__content {max-height: 0;max-width: 0;overflow: hidden;text-align: left;background-color: #f0f8ff;}#sk-container-id-8 div.sk-toggleable__content pre {margin: 0.2em;color: black;border-radius: 0.25em;background-color: #f0f8ff;}#sk-container-id-8 input.sk-toggleable__control:checked~div.sk-toggleable__content {max-height: 200px;max-width: 100%;overflow: auto;}#sk-container-id-8 input.sk-toggleable__control:checked~label.sk-toggleable__label-arrow:before {content: \"▾\";}#sk-container-id-8 div.sk-estimator input.sk-toggleable__control:checked~label.sk-toggleable__label {background-color: #d4ebff;}#sk-container-id-8 div.sk-label input.sk-toggleable__control:checked~label.sk-toggleable__label {background-color: #d4ebff;}#sk-container-id-8 input.sk-hidden--visually {border: 0;clip: rect(1px 1px 1px 1px);clip: rect(1px, 1px, 1px, 1px);height: 1px;margin: -1px;overflow: hidden;padding: 0;position: absolute;width: 1px;}#sk-container-id-8 div.sk-estimator {font-family: monospace;background-color: #f0f8ff;border: 1px dotted black;border-radius: 0.25em;box-sizing: border-box;margin-bottom: 0.5em;}#sk-container-id-8 div.sk-estimator:hover {background-color: #d4ebff;}#sk-container-id-8 div.sk-parallel-item::after {content: \"\";width: 100%;border-bottom: 1px solid gray;flex-grow: 1;}#sk-container-id-8 div.sk-label:hover label.sk-toggleable__label {background-color: #d4ebff;}#sk-container-id-8 div.sk-serial::before {content: \"\";position: absolute;border-left: 1px solid gray;box-sizing: border-box;top: 0;bottom: 0;left: 50%;z-index: 0;}#sk-container-id-8 div.sk-serial {display: flex;flex-direction: column;align-items: center;background-color: white;padding-right: 0.2em;padding-left: 0.2em;position: relative;}#sk-container-id-8 div.sk-item {position: relative;z-index: 1;}#sk-container-id-8 div.sk-parallel {display: flex;align-items: stretch;justify-content: center;background-color: white;position: relative;}#sk-container-id-8 div.sk-item::before, #sk-container-id-8 div.sk-parallel-item::before {content: \"\";position: absolute;border-left: 1px solid gray;box-sizing: border-box;top: 0;bottom: 0;left: 50%;z-index: -1;}#sk-container-id-8 div.sk-parallel-item {display: flex;flex-direction: column;z-index: 1;position: relative;background-color: white;}#sk-container-id-8 div.sk-parallel-item:first-child::after {align-self: flex-end;width: 50%;}#sk-container-id-8 div.sk-parallel-item:last-child::after {align-self: flex-start;width: 50%;}#sk-container-id-8 div.sk-parallel-item:only-child::after {width: 0;}#sk-container-id-8 div.sk-dashed-wrapped {border: 1px dashed gray;margin: 0 0.4em 0.5em 0.4em;box-sizing: border-box;padding-bottom: 0.4em;background-color: white;}#sk-container-id-8 div.sk-label label {font-family: monospace;font-weight: bold;display: inline-block;line-height: 1.2em;}#sk-container-id-8 div.sk-label-container {text-align: center;}#sk-container-id-8 div.sk-container {/* jupyter's `normalize.less` sets `[hidden] { display: none; }` but bootstrap.min.css set `[hidden] { display: none !important; }` so we also need the `!important` here to be able to override the default hidden behavior on the sphinx rendered scikit-learn.org. See: https://github.com/scikit-learn/scikit-learn/issues/21755 */display: inline-block !important;position: relative;}#sk-container-id-8 div.sk-text-repr-fallback {display: none;}</style><div id=\"sk-container-id-8\" class=\"sk-top-container\"><div class=\"sk-text-repr-fallback\"><pre>DecisionTreeRegressor(max_depth=1)</pre><b>In a Jupyter environment, please rerun this cell to show the HTML representation or trust the notebook. <br />On GitHub, the HTML representation is unable to render, please try loading this page with nbviewer.org.</b></div><div class=\"sk-container\" hidden><div class=\"sk-item\"><div class=\"sk-estimator sk-toggleable\"><input class=\"sk-toggleable__control sk-hidden--visually\" id=\"sk-estimator-id-8\" type=\"checkbox\" checked><label for=\"sk-estimator-id-8\" class=\"sk-toggleable__label sk-toggleable__label-arrow\">DecisionTreeRegressor</label><div class=\"sk-toggleable__content\"><pre>DecisionTreeRegressor(max_depth=1)</pre></div></div></div></div></div>"
      ],
      "text/plain": [
       "DecisionTreeRegressor(max_depth=1)"
      ]
     },
     "execution_count": 103,
     "metadata": {},
     "output_type": "execute_result"
    }
   ],
   "source": [
    "dt = DecisionTreeRegressor(max_depth=1)\n",
    "dt.fit(X_train, y_train)"
   ]
  },
  {
   "cell_type": "code",
   "execution_count": 114,
   "id": "55f040c8-d67a-4cb7-b6ed-c8b2a62052a0",
   "metadata": {},
   "outputs": [
    {
     "name": "stdout",
     "output_type": "stream",
     "text": [
      "|--- ocean_proximity=<1H OCEAN <= 0.50\n",
      "|   |--- value: [11.61]\n",
      "|--- ocean_proximity=<1H OCEAN >  0.50\n",
      "|   |--- value: [12.30]\n",
      "\n"
     ]
    }
   ],
   "source": [
    "print(tree.export_text(dt, feature_names=dv.get_feature_names_out()))"
   ]
  },
  {
   "cell_type": "code",
   "execution_count": null,
   "id": "2016c681-32cd-4e67-847d-996a8808f821",
   "metadata": {},
   "outputs": [],
   "source": []
  },
  {
   "cell_type": "code",
   "execution_count": 121,
   "id": "94e4006f-44ed-4c6f-a49a-0041fa760c60",
   "metadata": {},
   "outputs": [],
   "source": [
    "val_dicts = df_val.to_dict(orient='records')\n",
    "X_val = dv.transform(val_dicts)"
   ]
  },
  {
   "cell_type": "code",
   "execution_count": 106,
   "id": "760f638a-da6e-4ab9-bb0b-049b8191dc9f",
   "metadata": {},
   "outputs": [
    {
     "ename": "AttributeError",
     "evalue": "'DecisionTreeRegressor' object has no attribute 'predict_proba'",
     "output_type": "error",
     "traceback": [
      "\u001b[0;31m---------------------------------------------------------------------------\u001b[0m",
      "\u001b[0;31mAttributeError\u001b[0m                            Traceback (most recent call last)",
      "Cell \u001b[0;32mIn[106], line 1\u001b[0m\n\u001b[0;32m----> 1\u001b[0m y_pred \u001b[38;5;241m=\u001b[39m \u001b[43mdt\u001b[49m\u001b[38;5;241;43m.\u001b[39;49m\u001b[43mpredict_proba\u001b[49m(X_val)[:, \u001b[38;5;241m1\u001b[39m]\n",
      "\u001b[0;31mAttributeError\u001b[0m: 'DecisionTreeRegressor' object has no attribute 'predict_proba'"
     ]
    }
   ],
   "source": [
    "#y_pred = dt.predict_proba(X_val)[:, 1]"
   ]
  },
  {
   "cell_type": "code",
   "execution_count": null,
   "id": "ed211fe4-7c57-4659-8894-deef7aa2fdbd",
   "metadata": {},
   "outputs": [],
   "source": [
    "#y_pred"
   ]
  },
  {
   "cell_type": "code",
   "execution_count": null,
   "id": "94e94df4-8d8e-4971-a660-473fdffbc2e2",
   "metadata": {},
   "outputs": [],
   "source": [
    "#roc_auc_score(y_val, y_pred)"
   ]
  },
  {
   "cell_type": "code",
   "execution_count": 122,
   "id": "1f271fce-d12c-43c1-b7d2-368dee39e0da",
   "metadata": {},
   "outputs": [],
   "source": [
    "from sklearn.ensemble import RandomForestRegressor\n",
    "from sklearn.metrics import mean_squared_error"
   ]
  },
  {
   "cell_type": "code",
   "execution_count": 130,
   "id": "ff89b204-d44d-45db-9cbf-11c8a48639c9",
   "metadata": {},
   "outputs": [
    {
     "data": {
      "text/html": [
       "<style>#sk-container-id-11 {color: black;}#sk-container-id-11 pre{padding: 0;}#sk-container-id-11 div.sk-toggleable {background-color: white;}#sk-container-id-11 label.sk-toggleable__label {cursor: pointer;display: block;width: 100%;margin-bottom: 0;padding: 0.3em;box-sizing: border-box;text-align: center;}#sk-container-id-11 label.sk-toggleable__label-arrow:before {content: \"▸\";float: left;margin-right: 0.25em;color: #696969;}#sk-container-id-11 label.sk-toggleable__label-arrow:hover:before {color: black;}#sk-container-id-11 div.sk-estimator:hover label.sk-toggleable__label-arrow:before {color: black;}#sk-container-id-11 div.sk-toggleable__content {max-height: 0;max-width: 0;overflow: hidden;text-align: left;background-color: #f0f8ff;}#sk-container-id-11 div.sk-toggleable__content pre {margin: 0.2em;color: black;border-radius: 0.25em;background-color: #f0f8ff;}#sk-container-id-11 input.sk-toggleable__control:checked~div.sk-toggleable__content {max-height: 200px;max-width: 100%;overflow: auto;}#sk-container-id-11 input.sk-toggleable__control:checked~label.sk-toggleable__label-arrow:before {content: \"▾\";}#sk-container-id-11 div.sk-estimator input.sk-toggleable__control:checked~label.sk-toggleable__label {background-color: #d4ebff;}#sk-container-id-11 div.sk-label input.sk-toggleable__control:checked~label.sk-toggleable__label {background-color: #d4ebff;}#sk-container-id-11 input.sk-hidden--visually {border: 0;clip: rect(1px 1px 1px 1px);clip: rect(1px, 1px, 1px, 1px);height: 1px;margin: -1px;overflow: hidden;padding: 0;position: absolute;width: 1px;}#sk-container-id-11 div.sk-estimator {font-family: monospace;background-color: #f0f8ff;border: 1px dotted black;border-radius: 0.25em;box-sizing: border-box;margin-bottom: 0.5em;}#sk-container-id-11 div.sk-estimator:hover {background-color: #d4ebff;}#sk-container-id-11 div.sk-parallel-item::after {content: \"\";width: 100%;border-bottom: 1px solid gray;flex-grow: 1;}#sk-container-id-11 div.sk-label:hover label.sk-toggleable__label {background-color: #d4ebff;}#sk-container-id-11 div.sk-serial::before {content: \"\";position: absolute;border-left: 1px solid gray;box-sizing: border-box;top: 0;bottom: 0;left: 50%;z-index: 0;}#sk-container-id-11 div.sk-serial {display: flex;flex-direction: column;align-items: center;background-color: white;padding-right: 0.2em;padding-left: 0.2em;position: relative;}#sk-container-id-11 div.sk-item {position: relative;z-index: 1;}#sk-container-id-11 div.sk-parallel {display: flex;align-items: stretch;justify-content: center;background-color: white;position: relative;}#sk-container-id-11 div.sk-item::before, #sk-container-id-11 div.sk-parallel-item::before {content: \"\";position: absolute;border-left: 1px solid gray;box-sizing: border-box;top: 0;bottom: 0;left: 50%;z-index: -1;}#sk-container-id-11 div.sk-parallel-item {display: flex;flex-direction: column;z-index: 1;position: relative;background-color: white;}#sk-container-id-11 div.sk-parallel-item:first-child::after {align-self: flex-end;width: 50%;}#sk-container-id-11 div.sk-parallel-item:last-child::after {align-self: flex-start;width: 50%;}#sk-container-id-11 div.sk-parallel-item:only-child::after {width: 0;}#sk-container-id-11 div.sk-dashed-wrapped {border: 1px dashed gray;margin: 0 0.4em 0.5em 0.4em;box-sizing: border-box;padding-bottom: 0.4em;background-color: white;}#sk-container-id-11 div.sk-label label {font-family: monospace;font-weight: bold;display: inline-block;line-height: 1.2em;}#sk-container-id-11 div.sk-label-container {text-align: center;}#sk-container-id-11 div.sk-container {/* jupyter's `normalize.less` sets `[hidden] { display: none; }` but bootstrap.min.css set `[hidden] { display: none !important; }` so we also need the `!important` here to be able to override the default hidden behavior on the sphinx rendered scikit-learn.org. See: https://github.com/scikit-learn/scikit-learn/issues/21755 */display: inline-block !important;position: relative;}#sk-container-id-11 div.sk-text-repr-fallback {display: none;}</style><div id=\"sk-container-id-11\" class=\"sk-top-container\"><div class=\"sk-text-repr-fallback\"><pre>RandomForestRegressor(n_estimators=10, random_state=1)</pre><b>In a Jupyter environment, please rerun this cell to show the HTML representation or trust the notebook. <br />On GitHub, the HTML representation is unable to render, please try loading this page with nbviewer.org.</b></div><div class=\"sk-container\" hidden><div class=\"sk-item\"><div class=\"sk-estimator sk-toggleable\"><input class=\"sk-toggleable__control sk-hidden--visually\" id=\"sk-estimator-id-11\" type=\"checkbox\" checked><label for=\"sk-estimator-id-11\" class=\"sk-toggleable__label sk-toggleable__label-arrow\">RandomForestRegressor</label><div class=\"sk-toggleable__content\"><pre>RandomForestRegressor(n_estimators=10, random_state=1)</pre></div></div></div></div></div>"
      ],
      "text/plain": [
       "RandomForestRegressor(n_estimators=10, random_state=1)"
      ]
     },
     "execution_count": 130,
     "metadata": {},
     "output_type": "execute_result"
    }
   ],
   "source": [
    "rf = RandomForestRegressor(n_estimators=10, random_state=1)\n",
    "rf.fit(X_train, y_train)"
   ]
  },
  {
   "cell_type": "code",
   "execution_count": 147,
   "id": "5adb2bda-d8cf-4140-94f9-d7a8ca6693ff",
   "metadata": {},
   "outputs": [],
   "source": [
    "y_pred = rf.predict(X_val)"
   ]
  },
  {
   "cell_type": "code",
   "execution_count": 148,
   "id": "df8ce09b-602d-406c-9a6d-855ce00b8fd4",
   "metadata": {},
   "outputs": [
    {
     "data": {
      "text/plain": [
       "array([12.23749287, 12.04892266, 11.62622693, ..., 11.74127738,\n",
       "       11.15238041, 11.69322207])"
      ]
     },
     "execution_count": 148,
     "metadata": {},
     "output_type": "execute_result"
    }
   ],
   "source": [
    "y_pred"
   ]
  },
  {
   "cell_type": "code",
   "execution_count": 149,
   "id": "3962c6f3-a2c7-41c5-b733-b401a98e620f",
   "metadata": {},
   "outputs": [
    {
     "data": {
      "text/plain": [
       "0.23365273265963643"
      ]
     },
     "execution_count": 149,
     "metadata": {},
     "output_type": "execute_result"
    }
   ],
   "source": [
    "mean_squared_error(y_val, y_pred, squared=False)"
   ]
  },
  {
   "cell_type": "code",
   "execution_count": 138,
   "id": "a0404d62-4ccf-4a21-a90f-4cd2c628472c",
   "metadata": {},
   "outputs": [],
   "source": [
    "est = np.arange(10,210, 10)"
   ]
  },
  {
   "cell_type": "code",
   "execution_count": 153,
   "id": "4867cdb7-d429-4b89-9d80-fa2fc88fe50e",
   "metadata": {},
   "outputs": [],
   "source": [
    "res = [] \n",
    "\n",
    "for max_depth in [10, 15, 20, 25]:\n",
    "    for e in est:\n",
    "        rmse_list = []\n",
    "        rf = RandomForestRegressor(n_estimators=e, random_state=1, n_jobs=-1, max_depth=max_depth)\n",
    "        rf.fit(X_train, y_train)\n",
    "        y_pred = rf.predict(X_val)\n",
    "        rmse_list.append(mean_squared_error(y_val, y_pred, squared=False))\n",
    "    res.append((max_depth, np.average(rmse_list)))\n",
    "    \n",
    "    \n",
    "    "
   ]
  },
  {
   "cell_type": "code",
   "execution_count": 154,
   "id": "46cdb820-ca39-4a29-ab4c-ec89702addce",
   "metadata": {},
   "outputs": [
    {
     "data": {
      "text/plain": [
       "[(10, 0.2447304368581782),\n",
       " (15, 0.23457174272618955),\n",
       " (20, 0.23395591092211357),\n",
       " (25, 0.23376420484314395)]"
      ]
     },
     "execution_count": 154,
     "metadata": {},
     "output_type": "execute_result"
    }
   ],
   "source": [
    "res"
   ]
  },
  {
   "cell_type": "code",
   "execution_count": 156,
   "id": "79100551-08d5-4fd9-b5f4-9ed9aea2f4f1",
   "metadata": {},
   "outputs": [
    {
     "data": {
      "text/plain": [
       "0.24485321712663938"
      ]
     },
     "execution_count": 156,
     "metadata": {},
     "output_type": "execute_result"
    }
   ],
   "source": [
    "# hw 6 question 5\n",
    "rf = RandomForestRegressor(n_estimators=10, random_state=1, n_jobs=-1, max_depth=20)\n",
    "rf.fit(X_train, y_train)\n",
    "y_pred = rf.predict(X_val)\n",
    "mean_squared_error(y_val, y_pred, squared=False)"
   ]
  },
  {
   "cell_type": "code",
   "execution_count": 169,
   "id": "a0e39aec-9ed4-4437-8642-d7125024901a",
   "metadata": {},
   "outputs": [
    {
     "data": {
      "text/plain": [
       "array([0.01502087, 0.03030503, 0.10195626, 0.08627638, 0.3355917 ,\n",
       "       0.29247297, 0.07380644, 0.02715851, 0.01589402, 0.02151783])"
      ]
     },
     "execution_count": 169,
     "metadata": {},
     "output_type": "execute_result"
    }
   ],
   "source": [
    "#rf.feature_importances_\n",
    "rf.feature_importances_"
   ]
  },
  {
   "cell_type": "code",
   "execution_count": 170,
   "id": "890b5ff1-998b-409a-bd20-a585f58959ad",
   "metadata": {},
   "outputs": [],
   "source": [
    "d = {}\n",
    "for c, f in zip(df_train.columns, rf.feature_importances_):\n",
    "    d[c]=f"
   ]
  },
  {
   "cell_type": "code",
   "execution_count": 171,
   "id": "1cabd1db-bdbc-427c-be7a-6e4eeb0c68c8",
   "metadata": {},
   "outputs": [
    {
     "data": {
      "text/plain": [
       "{'longitude': 0.015020868392390856,\n",
       " 'latitude': 0.030305029123174957,\n",
       " 'housing_median_age': 0.10195626000240125,\n",
       " 'total_rooms': 0.08627637578575545,\n",
       " 'total_bedrooms': 0.33559170042109715,\n",
       " 'population': 0.29247296545343104,\n",
       " 'households': 0.07380644294558006,\n",
       " 'median_income': 0.027158512272116596,\n",
       " 'ocean_proximity': 0.015894018592137876}"
      ]
     },
     "execution_count": 171,
     "metadata": {},
     "output_type": "execute_result"
    }
   ],
   "source": [
    "d"
   ]
  },
  {
   "cell_type": "code",
   "execution_count": 172,
   "id": "79786d0d-161a-4a4d-ba88-0b47c507933d",
   "metadata": {},
   "outputs": [
    {
     "name": "stdout",
     "output_type": "stream",
     "text": [
      "Collecting xgboost\n",
      "  Obtaining dependency information for xgboost from https://files.pythonhosted.org/packages/6d/d1/3e954de1d492129710e8625349a7b86eb287a4f413c5b5c15522f89a6c04/xgboost-2.0.0-py3-none-macosx_12_0_arm64.whl.metadata\n",
      "  Downloading xgboost-2.0.0-py3-none-macosx_12_0_arm64.whl.metadata (2.0 kB)\n",
      "Requirement already satisfied: numpy in /Users/naveed/miniconda3/envs/mlz1/lib/python3.11/site-packages (from xgboost) (1.26.0)\n",
      "Requirement already satisfied: scipy in /Users/naveed/miniconda3/envs/mlz1/lib/python3.11/site-packages (from xgboost) (1.11.2)\n",
      "Downloading xgboost-2.0.0-py3-none-macosx_12_0_arm64.whl (1.9 MB)\n",
      "\u001b[2K   \u001b[38;2;114;156;31m━━━━━━━━━━━━━━━━━━━━━━━━━━━━━━━━━━━━━━━━\u001b[0m \u001b[32m1.9/1.9 MB\u001b[0m \u001b[31m9.2 MB/s\u001b[0m eta \u001b[36m0:00:00\u001b[0m MB/s\u001b[0m eta \u001b[36m0:00:01\u001b[0m:01\u001b[0m\n",
      "\u001b[?25hInstalling collected packages: xgboost\n",
      "Successfully installed xgboost-2.0.0\n"
     ]
    }
   ],
   "source": [
    "!pip install xgboost"
   ]
  },
  {
   "cell_type": "code",
   "execution_count": 204,
   "id": "eabc0b89-fb6a-4a3b-a604-8eaeb1ec5980",
   "metadata": {},
   "outputs": [],
   "source": [
    "xgb_params = {\n",
    "    'eta': 0.1, \n",
    "    'max_depth': 6,\n",
    "    'min_child_weight': 1,\n",
    "    \n",
    "    'objective': 'reg:squarederror',\n",
    "    'nthread': 8,\n",
    "    \n",
    "    'seed': 1,\n",
    "    'verbosity': 1,\n",
    "}"
   ]
  },
  {
   "cell_type": "code",
   "execution_count": 205,
   "id": "90d744ad-9c5d-43e9-af2d-26c82205061b",
   "metadata": {},
   "outputs": [],
   "source": [
    "import xgboost as xgb"
   ]
  },
  {
   "cell_type": "code",
   "execution_count": 206,
   "id": "2fc96728-c94c-441a-9eda-158251a48d17",
   "metadata": {},
   "outputs": [],
   "source": [
    "features = dv.get_feature_names_out()\n"
   ]
  },
  {
   "cell_type": "code",
   "execution_count": 207,
   "id": "280b58d9-7dfa-4453-b607-f0ed28d1dea5",
   "metadata": {},
   "outputs": [],
   "source": [
    "l_features = list(features)"
   ]
  },
  {
   "cell_type": "code",
   "execution_count": 208,
   "id": "9c32e5e1-c764-414e-a3d7-023376cc744c",
   "metadata": {},
   "outputs": [],
   "source": [
    "#regex = re.compile(r\"\\[|\\]|<\", re.IGNORECASE)\n",
    "l_features = [x.replace(\"<\", \"LT\") for x in l_features]"
   ]
  },
  {
   "cell_type": "code",
   "execution_count": 209,
   "id": "e9d49793-15df-42e0-9eef-e4fe49b2ce06",
   "metadata": {},
   "outputs": [],
   "source": [
    "watchlist = [(dtrain, \"train\"), (dval, \"val\")]"
   ]
  },
  {
   "cell_type": "code",
   "execution_count": 210,
   "id": "4203befe-b0d3-4260-ad6d-4b588cb7b0eb",
   "metadata": {},
   "outputs": [],
   "source": [
    "dtrain = xgb.DMatrix(X_train, label=y_train, feature_names=l_features)\n",
    "dval = xgb.DMatrix(X_val, label=y_val, feature_names=l_features)"
   ]
  },
  {
   "cell_type": "code",
   "execution_count": 211,
   "id": "6e505b77-f5cd-4b31-8dad-b08c1c7904f9",
   "metadata": {},
   "outputs": [
    {
     "name": "stdout",
     "output_type": "stream",
     "text": [
      "[0]\ttrain-rmse:0.52449\tval-rmse:0.52045\n",
      "[1]\ttrain-rmse:0.48736\tval-rmse:0.48443\n",
      "[2]\ttrain-rmse:0.45433\tval-rmse:0.45293\n",
      "[3]\ttrain-rmse:0.42533\tval-rmse:0.42550\n",
      "[4]\ttrain-rmse:0.39987\tval-rmse:0.40144\n",
      "[5]\ttrain-rmse:0.37822\tval-rmse:0.38151\n",
      "[6]\ttrain-rmse:0.35887\tval-rmse:0.36393\n",
      "[7]\ttrain-rmse:0.34177\tval-rmse:0.34838\n",
      "[8]\ttrain-rmse:0.32701\tval-rmse:0.33492\n",
      "[9]\ttrain-rmse:0.31411\tval-rmse:0.32333\n",
      "[10]\ttrain-rmse:0.30326\tval-rmse:0.31427\n",
      "[11]\ttrain-rmse:0.29355\tval-rmse:0.30615\n",
      "[12]\ttrain-rmse:0.28519\tval-rmse:0.29922\n",
      "[13]\ttrain-rmse:0.27760\tval-rmse:0.29269\n",
      "[14]\ttrain-rmse:0.27116\tval-rmse:0.28796\n",
      "[15]\ttrain-rmse:0.26538\tval-rmse:0.28380\n",
      "[16]\ttrain-rmse:0.26012\tval-rmse:0.27970\n",
      "[17]\ttrain-rmse:0.25583\tval-rmse:0.27661\n",
      "[18]\ttrain-rmse:0.25203\tval-rmse:0.27388\n",
      "[19]\ttrain-rmse:0.24818\tval-rmse:0.27123\n",
      "[20]\ttrain-rmse:0.24512\tval-rmse:0.26882\n",
      "[21]\ttrain-rmse:0.24149\tval-rmse:0.26669\n",
      "[22]\ttrain-rmse:0.23895\tval-rmse:0.26478\n",
      "[23]\ttrain-rmse:0.23594\tval-rmse:0.26331\n",
      "[24]\ttrain-rmse:0.23305\tval-rmse:0.26141\n",
      "[25]\ttrain-rmse:0.23026\tval-rmse:0.25997\n",
      "[26]\ttrain-rmse:0.22720\tval-rmse:0.25799\n",
      "[27]\ttrain-rmse:0.22487\tval-rmse:0.25620\n",
      "[28]\ttrain-rmse:0.22268\tval-rmse:0.25494\n",
      "[29]\ttrain-rmse:0.22084\tval-rmse:0.25374\n",
      "[30]\ttrain-rmse:0.21887\tval-rmse:0.25266\n",
      "[31]\ttrain-rmse:0.21709\tval-rmse:0.25172\n",
      "[32]\ttrain-rmse:0.21505\tval-rmse:0.25075\n",
      "[33]\ttrain-rmse:0.21342\tval-rmse:0.24991\n",
      "[34]\ttrain-rmse:0.21168\tval-rmse:0.24882\n",
      "[35]\ttrain-rmse:0.21020\tval-rmse:0.24826\n",
      "[36]\ttrain-rmse:0.20878\tval-rmse:0.24779\n",
      "[37]\ttrain-rmse:0.20755\tval-rmse:0.24731\n",
      "[38]\ttrain-rmse:0.20625\tval-rmse:0.24668\n",
      "[39]\ttrain-rmse:0.20518\tval-rmse:0.24624\n",
      "[40]\ttrain-rmse:0.20392\tval-rmse:0.24539\n",
      "[41]\ttrain-rmse:0.20285\tval-rmse:0.24501\n",
      "[42]\ttrain-rmse:0.20172\tval-rmse:0.24435\n",
      "[43]\ttrain-rmse:0.20045\tval-rmse:0.24380\n",
      "[44]\ttrain-rmse:0.19900\tval-rmse:0.24311\n",
      "[45]\ttrain-rmse:0.19814\tval-rmse:0.24293\n",
      "[46]\ttrain-rmse:0.19628\tval-rmse:0.24184\n",
      "[47]\ttrain-rmse:0.19561\tval-rmse:0.24159\n",
      "[48]\ttrain-rmse:0.19464\tval-rmse:0.24131\n",
      "[49]\ttrain-rmse:0.19371\tval-rmse:0.24109\n",
      "[50]\ttrain-rmse:0.19215\tval-rmse:0.24020\n",
      "[51]\ttrain-rmse:0.19156\tval-rmse:0.24015\n",
      "[52]\ttrain-rmse:0.19059\tval-rmse:0.23979\n",
      "[53]\ttrain-rmse:0.18985\tval-rmse:0.23958\n",
      "[54]\ttrain-rmse:0.18931\tval-rmse:0.23930\n",
      "[55]\ttrain-rmse:0.18809\tval-rmse:0.23878\n",
      "[56]\ttrain-rmse:0.18734\tval-rmse:0.23853\n",
      "[57]\ttrain-rmse:0.18681\tval-rmse:0.23849\n",
      "[58]\ttrain-rmse:0.18623\tval-rmse:0.23836\n",
      "[59]\ttrain-rmse:0.18561\tval-rmse:0.23835\n",
      "[60]\ttrain-rmse:0.18457\tval-rmse:0.23791\n",
      "[61]\ttrain-rmse:0.18363\tval-rmse:0.23783\n",
      "[62]\ttrain-rmse:0.18310\tval-rmse:0.23788\n",
      "[63]\ttrain-rmse:0.18209\tval-rmse:0.23755\n",
      "[64]\ttrain-rmse:0.18150\tval-rmse:0.23735\n",
      "[65]\ttrain-rmse:0.18063\tval-rmse:0.23698\n",
      "[66]\ttrain-rmse:0.17998\tval-rmse:0.23681\n",
      "[67]\ttrain-rmse:0.17913\tval-rmse:0.23646\n",
      "[68]\ttrain-rmse:0.17843\tval-rmse:0.23628\n",
      "[69]\ttrain-rmse:0.17798\tval-rmse:0.23627\n",
      "[70]\ttrain-rmse:0.17741\tval-rmse:0.23622\n",
      "[71]\ttrain-rmse:0.17685\tval-rmse:0.23607\n",
      "[72]\ttrain-rmse:0.17617\tval-rmse:0.23584\n",
      "[73]\ttrain-rmse:0.17557\tval-rmse:0.23562\n",
      "[74]\ttrain-rmse:0.17522\tval-rmse:0.23537\n",
      "[75]\ttrain-rmse:0.17468\tval-rmse:0.23510\n",
      "[76]\ttrain-rmse:0.17432\tval-rmse:0.23503\n",
      "[77]\ttrain-rmse:0.17395\tval-rmse:0.23494\n",
      "[78]\ttrain-rmse:0.17334\tval-rmse:0.23482\n",
      "[79]\ttrain-rmse:0.17287\tval-rmse:0.23467\n",
      "[80]\ttrain-rmse:0.17242\tval-rmse:0.23453\n",
      "[81]\ttrain-rmse:0.17213\tval-rmse:0.23447\n",
      "[82]\ttrain-rmse:0.17139\tval-rmse:0.23431\n",
      "[83]\ttrain-rmse:0.17105\tval-rmse:0.23428\n",
      "[84]\ttrain-rmse:0.17063\tval-rmse:0.23413\n",
      "[85]\ttrain-rmse:0.17014\tval-rmse:0.23404\n",
      "[86]\ttrain-rmse:0.16966\tval-rmse:0.23401\n",
      "[87]\ttrain-rmse:0.16916\tval-rmse:0.23388\n",
      "[88]\ttrain-rmse:0.16882\tval-rmse:0.23364\n",
      "[89]\ttrain-rmse:0.16835\tval-rmse:0.23339\n",
      "[90]\ttrain-rmse:0.16797\tval-rmse:0.23332\n",
      "[91]\ttrain-rmse:0.16756\tval-rmse:0.23330\n",
      "[92]\ttrain-rmse:0.16707\tval-rmse:0.23298\n",
      "[93]\ttrain-rmse:0.16623\tval-rmse:0.23273\n",
      "[94]\ttrain-rmse:0.16586\tval-rmse:0.23279\n",
      "[95]\ttrain-rmse:0.16562\tval-rmse:0.23276\n",
      "[96]\ttrain-rmse:0.16524\tval-rmse:0.23266\n",
      "[97]\ttrain-rmse:0.16444\tval-rmse:0.23246\n",
      "[98]\ttrain-rmse:0.16383\tval-rmse:0.23222\n",
      "[99]\ttrain-rmse:0.16323\tval-rmse:0.23209\n"
     ]
    },
    {
     "data": {
      "text/plain": [
       "<xgboost.core.Booster at 0x2d91f4d50>"
      ]
     },
     "execution_count": 211,
     "metadata": {},
     "output_type": "execute_result"
    }
   ],
   "source": [
    "xgb.train(xgb_params, dtrain, num_boost_round=100, evals=watchlist)"
   ]
  },
  {
   "cell_type": "code",
   "execution_count": null,
   "id": "e9c59e13-e663-499d-a187-f7389021deec",
   "metadata": {},
   "outputs": [],
   "source": [
    "# .3 ETA = val-rmse:0.22862"
   ]
  },
  {
   "cell_type": "code",
   "execution_count": null,
   "id": "50a68608-088b-4889-93e5-3121ce2f9ac8",
   "metadata": {},
   "outputs": [],
   "source": [
    "# .1 ETA = val-rmse:0.23209"
   ]
  }
 ],
 "metadata": {
  "kernelspec": {
   "display_name": "Python 3 (ipykernel)",
   "language": "python",
   "name": "python3"
  },
  "language_info": {
   "codemirror_mode": {
    "name": "ipython",
    "version": 3
   },
   "file_extension": ".py",
   "mimetype": "text/x-python",
   "name": "python",
   "nbconvert_exporter": "python",
   "pygments_lexer": "ipython3",
   "version": "3.11.5"
  }
 },
 "nbformat": 4,
 "nbformat_minor": 5
}
